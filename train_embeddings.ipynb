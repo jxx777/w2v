{
 "cells": [
  {
   "metadata": {},
   "cell_type": "markdown",
   "source": "### Setting up configurations / settings",
   "id": "7fb3070e0be5d4"
  },
  {
   "cell_type": "code",
   "id": "817179d7a1d5d8f1",
   "metadata": {},
   "source": [
    "# Cell 1: Logging Settings\n",
    "import logging\n",
    "logging.basicConfig(format='%(asctime)s : %(levelname)s : %(message)s', level=logging.INFO)"
   ],
   "outputs": [],
   "execution_count": null
  },
  {
   "cell_type": "code",
   "id": "cdc97477213db38f",
   "metadata": {
    "ExecuteTime": {
     "end_time": "2025-04-10T13:09:24.915420Z",
     "start_time": "2025-04-10T13:09:24.909647Z"
    }
   },
   "source": [
    "# Cell 2: Load and override config\n",
    "from config import Settings\n",
    "settings = Settings(\n",
    "    MODEL_TYPE=\"word2vec\", # or \"fasttext\"\n",
    "    MODEL_NAME=\"word2vec_enwiki-latest-pages-articles\",\n",
    "    MODEL_RESUME=True, # Existing model from checkpoint if available\n",
    "    DATASET_URL= \"https://dumps.wikimedia.org/enwiki/latest/enwiki-latest-pages-articles.xml.bz2\",\n",
    "    EPOCHS=5, # You can test with fewer epochs\n",
    "    CORPUS_CHECKPOINT_STRATEGY=\"streaming\" # Use \"streaming\" (saved to disk) or \"serialized\" (loaded into RAM)\n",
    ")\n",
    "\n",
    "logging.info(\"Current configuration settings:\\n%s\", settings.model_dump_json(indent=2))"
   ],
   "outputs": [
    {
     "name": "stderr",
     "output_type": "stream",
     "text": [
      "2025-04-10 16:09:24,911 : INFO : Current configuration settings:\n",
      "{\n",
      "  \"MODEL_DIR\": \"models\",\n",
      "  \"DATASET_DIR\": \"datasets\",\n",
      "  \"CHECKPOINT_DIR\": \"checkpoints\",\n",
      "  \"DATASET_URL\": \"https://dumps.wikimedia.org/enwiki/latest/enwiki-latest-pages-articles.xml.bz2\",\n",
      "  \"DATASET_FILE\": \"enwiki-latest-pages-articles.xml.bz2\",\n",
      "  \"DATASET_PATH\": \"datasets/enwiki-latest-pages-articles.xml.bz2\",\n",
      "  \"MODEL_TYPE\": \"word2vec\",\n",
      "  \"MODEL_TRAIN\": true,\n",
      "  \"MODEL_NAME\": \"word2vec_enwiki-latest-pages-articles\",\n",
      "  \"MODEL_RESUME\": true,\n",
      "  \"VECTOR_SIZE\": 100,\n",
      "  \"WINDOW\": 5,\n",
      "  \"MIN_COUNT\": 3,\n",
      "  \"EPOCHS\": 5,\n",
      "  \"CORPUS_CHECKPOINT_STRATEGY\": \"streaming\",\n",
      "  \"UPLOAD_TO_VECTORDB\": false,\n",
      "  \"VECTORDB_HOST\": \"127.0.0.1\",\n",
      "  \"VECTORDB_PORT\": 6333,\n",
      "  \"VECTORDB_COLLECTION\": \"word2vec_enwiki-latest-pages-articles\"\n",
      "}\n"
     ]
    }
   ],
   "execution_count": 28
  },
  {
   "metadata": {},
   "cell_type": "markdown",
   "source": "### Load the dataset, run tokenization, and train the model",
   "id": "bcdc24498c04d1e0"
  },
  {
   "cell_type": "code",
   "id": "97ec9c047b4f1999",
   "metadata": {
    "ExecuteTime": {
     "end_time": "2025-04-10T12:56:45.855715Z",
     "start_time": "2025-04-10T12:56:45.851775Z"
    }
   },
   "source": [
    "# Cell 3: If not present, download corpus\n",
    "from utils.download import download\n",
    "from pathlib import Path\n",
    "\n",
    "if not Path(settings.DATASET_PATH).exists():\n",
    "    logging.info(\"Dataset / dump not found. Downloading...\")\n",
    "    download(\n",
    "        url = settings.DATASET_URL,\n",
    "        destination = str(settings.DATASET_PATH)\n",
    "    )\n",
    "    logging.info(f\"Download complete: {settings.DATASET_PATH}\")"
   ],
   "outputs": [],
   "execution_count": 27
  },
  {
   "cell_type": "code",
   "id": "8bdcee31942882b6",
   "metadata": {},
   "source": [
    "# Cell 4: Load Corpus based on Checkpoint Strategy\n",
    "from utils.corpus_loader import load_or_tokenize_wiki\n",
    "from pathlib import Path\n",
    "\n",
    "# Choose the checkpoint file and strategy based on the configuration.\n",
    "match settings.CORPUS_CHECKPOINT_STRATEGY:\n",
    "    case \"serialized\":\n",
    "        corpus_checkpoint = Path(settings.CHECKPOINT_DIR / f\"{settings.MODEL_NAME}.pkl\")\n",
    "        use_streaming = False\n",
    "    case \"streaming\":\n",
    "        corpus_checkpoint = Path(settings.CHECKPOINT_DIR / f\"{settings.MODEL_NAME}.txt\")\n",
    "        use_streaming = True\n",
    "    case _:\n",
    "        raise ValueError(f\"Invalid checkpoint strategy: {settings.CORPUS_CHECKPOINT_STRATEGY}\")\n",
    "\n",
    "# Load or create the corpus based on the chosen strategy.\n",
    "sentences = load_or_tokenize_wiki(\n",
    "    dataset_path=settings.DATASET_PATH,\n",
    "    checkpoint_path=corpus_checkpoint,\n",
    "    use_streaming=use_streaming\n",
    ")"
   ],
   "outputs": [],
   "execution_count": null
  },
  {
   "cell_type": "code",
   "id": "3c21588502b581ad",
   "metadata": {},
   "source": [
    "# Cell 5: Train the model (resumes if checkpoint exists)\n",
    "from scripts.train import train_embedding_model\n",
    "\n",
    "model = train_embedding_model(\n",
    "    model_type=settings.MODEL_TYPE,\n",
    "    sentences=sentences,\n",
    "    save_dir=settings.MODEL_DIR,\n",
    "    model_name=settings.MODEL_NAME,\n",
    "    vector_size=settings.VECTOR_SIZE,\n",
    "    window=settings.WINDOW,\n",
    "    min_count=settings.MIN_COUNT,\n",
    "    epochs=settings.EPOCHS,\n",
    "    resume=settings.MODEL_RESUME\n",
    ")"
   ],
   "outputs": [],
   "execution_count": null
  },
  {
   "metadata": {},
   "cell_type": "markdown",
   "source": "### Once loaded, the model can be used / queried, etc",
   "id": "d9d80cefae05975b"
  },
  {
   "metadata": {},
   "cell_type": "code",
   "source": [
    "from gensim.models import FastText, Word2Vec\n",
    "\n",
    "model_path = settings.MODEL_DIR / f\"{settings.MODEL_NAME}.model\"\n",
    "model_type = settings.MODEL_TYPE.lower()\n",
    "\n",
    "match model_type:\n",
    "    case \"fasttext\":\n",
    "        loaded_model = FastText.load(str(model_path))\n",
    "        print(\"Model loaded successfully\")\n",
    "    case \"word2vec\":\n",
    "        loaded_model = Word2Vec.load(str(model_path))\n",
    "        print(\"Model loaded successfully\")\n",
    "    case _:\n",
    "        raise ValueError(f\"Unsupported model_type '{model_type}'.\")"
   ],
   "id": "3182e7cb41d08021",
   "outputs": [],
   "execution_count": null
  },
  {
   "cell_type": "code",
   "id": "c68035666621e1f9",
   "metadata": {},
   "source": [
    "# Cell 5: Some basic queries\n",
    "from scripts.evaluate import run_simple_queries\n",
    "\n",
    "run_simple_queries(loaded_model)"
   ],
   "outputs": [],
   "execution_count": null
  },
  {
   "metadata": {},
   "cell_type": "code",
   "source": "",
   "id": "f805ce685649b1e4",
   "outputs": [],
   "execution_count": null
  }
 ],
 "metadata": {
  "kernelspec": {
   "display_name": "Python 3 (ipykernel)",
   "language": "python",
   "name": "python3"
  },
  "language_info": {
   "codemirror_mode": {
    "name": "ipython",
    "version": 3
   },
   "file_extension": ".py",
   "mimetype": "text/x-python",
   "name": "python",
   "nbconvert_exporter": "python",
   "pygments_lexer": "ipython3",
   "version": "3.12.9"
  }
 },
 "nbformat": 4,
 "nbformat_minor": 5
}
