{
 "cells": [
  {
   "metadata": {},
   "cell_type": "code",
   "source": [
    "# Cell 1: Imports & Logging Settings\n",
    "import logging\n",
    "logging.basicConfig(format='%(asctime)s : %(levelname)s : %(message)s', level=logging.INFO)"
   ],
   "id": "817179d7a1d5d8f1",
   "outputs": [],
   "execution_count": null
  },
  {
   "metadata": {},
   "cell_type": "code",
   "source": [
    "# Cell 2: Load and override config\n",
    "from config import Settings\n",
    "settings = Settings(\n",
    "    MODEL_TYPE=\"fasttext\",  # or \"fasttext\"\n",
    "    MODEL_NAME=\"fasttext_rowiki-latest-pages-articles\",\n",
    "    MODEL_RESUME=True,       # Resume from checkpoint if available\n",
    "    EPOCHS=2                 # You can test with fewer epochs\n",
    ")"
   ],
   "id": "cdc97477213db38f",
   "outputs": [],
   "execution_count": null
  },
  {
   "metadata": {},
   "cell_type": "code",
   "source": [
    "from utils.download import download\n",
    "from pathlib import Path\n",
    "\n",
    "if not Path(settings.DATASET_PATH).exists():\n",
    "    logging.info(\"Dataset / dump not found. Downloading...\")\n",
    "    download(settings.DATASET_URL, str(settings.DATASET_PATH))\n",
    "    logging.info(f\"Download complete: {settings.DATASET_PATH}\")"
   ],
   "id": "97ec9c047b4f1999",
   "outputs": [],
   "execution_count": null
  },
  {
   "metadata": {},
   "cell_type": "code",
   "source": [
    "# Cell 3: Load or generate tokenized corpus\n",
    "from utils.corpus_loader import load_or_tokenize_wiki\n",
    "from pathlib import Path\n",
    "\n",
    "corpus_checkpoint = Path(f\"./checkpoints/{settings.MODEL_NAME}.pkl\")\n",
    "\n",
    "sentences = load_or_tokenize_wiki(\n",
    "    dataset_path=settings.DATASET_PATH,\n",
    "    checkpoint_path=corpus_checkpoint\n",
    ")"
   ],
   "id": "8bdcee31942882b6",
   "outputs": [],
   "execution_count": null
  },
  {
   "metadata": {},
   "cell_type": "code",
   "source": [
    "# Cell 4: Train the model (resumes if checkpoint exists)\n",
    "from scripts.train import train_embedding_model\n",
    "\n",
    "model = train_embedding_model(\n",
    "    model_type=settings.MODEL_TYPE,\n",
    "    sentences=sentences,\n",
    "    save_dir=settings.MODEL_DIR,\n",
    "    model_name=settings.MODEL_NAME,\n",
    "    vector_size=settings.VECTOR_SIZE,\n",
    "    window=settings.WINDOW,\n",
    "    min_count=settings.MIN_COUNT,\n",
    "    epochs=settings.EPOCHS,\n",
    "    resume=settings.MODEL_RESUME\n",
    ")"
   ],
   "id": "3c21588502b581ad",
   "outputs": [],
   "execution_count": null
  },
  {
   "metadata": {
    "ExecuteTime": {
     "end_time": "2025-04-09T14:58:32.670984Z",
     "start_time": "2025-04-09T14:58:32.651638Z"
    }
   },
   "cell_type": "code",
   "source": [
    "# Cell 5: Some basic queries\n",
    "from scripts.evaluate import run_simple_queries\n",
    "\n",
    "run_simple_queries(model)"
   ],
   "id": "c68035666621e1f9",
   "outputs": [
    {
     "name": "stdout",
     "output_type": "stream",
     "text": [
      "Most similar words for 'muzica': [('muzicală', 0.9007065296173096), ('muzică', 0.9002702832221985), ('muzical', 0.865666925907135), ('improvizația', 0.8611472845077515), ('muzicii', 0.8593776822090149), ('improvizație', 0.8559248447418213), ('melodiile', 0.8533461093902588), ('muzicala', 0.8532575368881226), ('muzicalâ', 0.8532226085662842), ('melodie', 0.8506162762641907), ('muzicale', 0.8485515713691711), ('melodia', 0.8481923341751099), ('melodii', 0.847549557685852), ('îndrăgita', 0.8470050096511841), ('muzicile', 0.8464491367340088)]\n",
      "Similarity between 'mancare' and 'nutritie': 0.64\n",
      "\n",
      "Word that doesn't match in ['vulpe', 'iepure', 'motocicleta', 'pisica']: motocicleta\n",
      "\n",
      "Vector for 'tehnologie':\n",
      "[-0.922466   -0.08408512  0.01337457  0.4200269   0.25501388  0.3013266\n",
      "  0.6211818   0.391625   -0.28068843  0.39844242 -0.14745809 -1.1583319\n",
      " -0.47723126  0.34541005  0.11916659 -0.07403175 -0.09654294  0.11558955\n",
      "  0.20718303  0.08619243  0.84084207  0.3038405  -0.5606956  -0.15525958\n",
      "  0.8767234   0.42327702 -0.56361794 -0.09885013 -0.36390904  0.6712785\n",
      "  0.28272688  0.37712905 -0.07225935  0.2790202  -0.25234774  0.8808296\n",
      "  0.4012133   0.49182287  0.41440275 -0.7018909  -0.44137618 -0.5741652\n",
      "  0.48364618  0.37496546 -0.55883056 -0.01298744 -0.31639448  0.09619033\n",
      "  0.3050263   0.1481377  -0.13652948 -0.9443917   0.6327388   0.50617373\n",
      "  0.69868517 -0.10094994  0.43562815 -0.14598826 -0.04667769  0.41314393\n",
      "  0.24310766  0.69233716  0.1349424   0.17868812  0.14079565  0.54485697\n",
      "  0.08681728  0.11590791  0.4433964   0.6809808   0.0471742   0.46411553\n",
      "  0.0288412   0.60925364  0.41828036  0.2476018  -0.29384568 -0.30378637\n",
      "  0.469456    0.33878884  0.3404748  -0.19612585 -0.761783    0.12812437\n",
      "  0.21244618  0.12974702 -0.04864976  0.6379142  -0.16559191  0.3770623\n",
      " -0.43212926 -0.42697495  0.29887185  0.2813468  -0.7329683  -0.03389927\n",
      " -0.3827966  -0.1796129  -0.08148894  0.34957075]\n",
      "\n",
      "Similar words for the vector of 'tehnologie'\n",
      "[('tehnologie', 1.0), ('tehnologia', 0.9419025182723999), ('tehnologică', 0.9250804781913757), ('tehnologii', 0.9151420593261719), ('tehnologiei', 0.8963397741317749), ('tehnologiile', 0.891056478023529), ('technologie', 0.888620138168335), ('microtehnologie', 0.8799147605895996), ('tehnologice', 0.8779603838920593), ('tehnologizată', 0.8773496747016907)]\n",
      "\n"
     ]
    }
   ],
   "execution_count": 25
  }
 ],
 "metadata": {
  "kernelspec": {
   "display_name": "Python 3",
   "language": "python",
   "name": "python3"
  },
  "language_info": {
   "codemirror_mode": {
    "name": "ipython",
    "version": 2
   },
   "file_extension": ".py",
   "mimetype": "text/x-python",
   "name": "python",
   "nbconvert_exporter": "python",
   "pygments_lexer": "ipython2",
   "version": "2.7.6"
  }
 },
 "nbformat": 4,
 "nbformat_minor": 5
}
