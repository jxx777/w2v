{
 "cells": [
  {
   "cell_type": "code",
   "id": "817179d7a1d5d8f1",
   "metadata": {},
   "source": [
    "# Cell 1: Logging Settings\n",
    "import logging\n",
    "logging.basicConfig(format='%(asctime)s : %(levelname)s : %(message)s', level=logging.INFO)"
   ],
   "outputs": [],
   "execution_count": null
  },
  {
   "cell_type": "code",
   "id": "cdc97477213db38f",
   "metadata": {},
   "source": [
    "# Cell 2: Load and override config\n",
    "from config import Settings\n",
    "settings = Settings(\n",
    "    MODEL_TYPE=\"word2vec\", # or \"fasttext\"\n",
    "    MODEL_NAME=\"word2vec_enwiki-latest-pages-articles\",\n",
    "    MODEL_RESUME=True, # Resume from checkpoint if available\n",
    "    DATASET_URL= \"https://dumps.wikimedia.org/enwiki/latest/enwiki-latest-pages-articles.xml.bz2\",\n",
    "    EPOCHS=2, # You can test with fewer epochs\n",
    "    CHECKPOINT_STRATEGY=\"streaming\" # Use \"streaming\" (for large corpora) or \"serialized\" (pickle) for smaller datasets\n",
    ")"
   ],
   "outputs": [],
   "execution_count": null
  },
  {
   "cell_type": "code",
   "id": "97ec9c047b4f1999",
   "metadata": {},
   "source": [
    "# Cell 3: If not present, download corpus\n",
    "from utils.download import download\n",
    "from pathlib import Path\n",
    "\n",
    "if not Path(settings.DATASET_PATH).exists():\n",
    "    logging.info(\"Dataset / dump not found. Downloading...\")\n",
    "    download(settings.DATASET_URL, str(settings.DATASET_PATH))\n",
    "    logging.info(f\"Download complete: {settings.DATASET_PATH}\")"
   ],
   "outputs": [],
   "execution_count": null
  },
  {
   "cell_type": "code",
   "id": "8bdcee31942882b6",
   "metadata": {},
   "source": [
    "# Cell 4: Load Corpus based on Checkpoint Strategy\n",
    "from utils.corpus_loader import load_or_tokenize_wiki\n",
    "from pathlib import Path\n",
    "\n",
    "# Choose the checkpoint file and strategy based on the configuration.\n",
    "if settings.CHECKPOINT_STRATEGY == \"serialized\":\n",
    "    corpus_checkpoint = Path(f\"./checkpoints/{settings.MODEL_NAME}.pkl\")\n",
    "    use_streaming = False\n",
    "else:\n",
    "    corpus_checkpoint = Path(f\"./checkpoints/{settings.MODEL_NAME}.txt\")\n",
    "    use_streaming = True\n",
    "\n",
    "# Load or create the corpus based on the chosen strategy.\n",
    "sentences = load_or_tokenize_wiki(\n",
    "    dataset_path=settings.DATASET_PATH,\n",
    "    checkpoint_path=corpus_checkpoint,\n",
    "    use_streaming=use_streaming\n",
    ")"
   ],
   "outputs": [],
   "execution_count": null
  },
  {
   "cell_type": "code",
   "id": "3c21588502b581ad",
   "metadata": {},
   "source": [
    "# Cell 5: Train the model (resumes if checkpoint exists)\n",
    "from scripts.train import train_embedding_model\n",
    "\n",
    "model = train_embedding_model(\n",
    "    model_type=settings.MODEL_TYPE,\n",
    "    sentences=sentences,\n",
    "    save_dir=settings.MODEL_DIR,\n",
    "    model_name=settings.MODEL_NAME,\n",
    "    vector_size=settings.VECTOR_SIZE,\n",
    "    window=settings.WINDOW,\n",
    "    min_count=settings.MIN_COUNT,\n",
    "    epochs=settings.EPOCHS,\n",
    "    resume=settings.MODEL_RESUME\n",
    ")"
   ],
   "outputs": [],
   "execution_count": null
  },
  {
   "cell_type": "code",
   "id": "c68035666621e1f9",
   "metadata": {},
   "source": [
    "# Cell 5: Some basic queries\n",
    "from scripts.evaluate import run_simple_queries\n",
    "\n",
    "run_simple_queries(model)"
   ],
   "outputs": [],
   "execution_count": null
  }
 ],
 "metadata": {
  "kernelspec": {
   "display_name": "Python 3 (ipykernel)",
   "language": "python",
   "name": "python3"
  },
  "language_info": {
   "codemirror_mode": {
    "name": "ipython",
    "version": 3
   },
   "file_extension": ".py",
   "mimetype": "text/x-python",
   "name": "python",
   "nbconvert_exporter": "python",
   "pygments_lexer": "ipython3",
   "version": "3.12.9"
  }
 },
 "nbformat": 4,
 "nbformat_minor": 5
}
