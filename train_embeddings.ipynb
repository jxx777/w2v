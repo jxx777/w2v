{
 "cells": [
  {
   "metadata": {
    "ExecuteTime": {
     "end_time": "2025-04-09T14:50:41.302731Z",
     "start_time": "2025-04-09T14:50:41.300945Z"
    }
   },
   "cell_type": "code",
   "source": [
    "# Cell 1: Imports & Logging Settings\n",
    "import logging\n",
    "logging.basicConfig(format='%(asctime)s : %(levelname)s : %(message)s', level=logging.INFO)"
   ],
   "id": "817179d7a1d5d8f1",
   "outputs": [],
   "execution_count": 14
  },
  {
   "metadata": {
    "ExecuteTime": {
     "end_time": "2025-04-09T14:50:41.347624Z",
     "start_time": "2025-04-09T14:50:41.344669Z"
    }
   },
   "cell_type": "code",
   "source": [
    "# Cell 2: Load and override config\n",
    "from config import Settings\n",
    "settings = Settings(\n",
    "    MODEL_TYPE=\"word2vec\",  # or \"fasttext\"\n",
    "    MODEL_NAME=\"fasttext_rowiki-latest-pages-articles\",\n",
    "    MODEL_RESUME=True,       # Resume from checkpoint if available\n",
    "    EPOCHS=2                 # You can test with fewer epochs\n",
    ")"
   ],
   "id": "cdc97477213db38f",
   "outputs": [],
   "execution_count": 15
  },
  {
   "metadata": {
    "ExecuteTime": {
     "end_time": "2025-04-09T14:50:41.390348Z",
     "start_time": "2025-04-09T14:50:41.388190Z"
    }
   },
   "cell_type": "code",
   "source": [
    "from utils.download import download\n",
    "from pathlib import Path\n",
    "\n",
    "if not Path(settings.DATASET_PATH).exists():\n",
    "    logging.info(\"Dataset / dump not found. Downloading...\")\n",
    "    download(settings.DATASET_URL, str(settings.DATASET_PATH))\n",
    "    logging.info(f\"Download complete: {settings.DATASET_PATH}\")"
   ],
   "id": "97ec9c047b4f1999",
   "outputs": [],
   "execution_count": 16
  },
  {
   "metadata": {
    "ExecuteTime": {
     "end_time": "2025-04-09T14:50:49.547988Z",
     "start_time": "2025-04-09T14:50:41.431105Z"
    }
   },
   "cell_type": "code",
   "source": [
    "# Cell 3: Load or generate tokenized corpus\n",
    "from utils.corpus_loader import load_or_tokenize_wiki\n",
    "from pathlib import Path\n",
    "\n",
    "corpus_checkpoint = Path(f\"./checkpoints/{settings.MODEL_NAME}.pkl\")\n",
    "\n",
    "sentences = load_or_tokenize_wiki(\n",
    "    dataset_path=settings.DATASET_PATH,\n",
    "    checkpoint_path=corpus_checkpoint\n",
    ")"
   ],
   "id": "8bdcee31942882b6",
   "outputs": [],
   "execution_count": 17
  },
  {
   "metadata": {
    "jupyter": {
     "is_executing": true
    },
    "ExecuteTime": {
     "start_time": "2025-04-09T14:50:49.574151Z"
    }
   },
   "cell_type": "code",
   "source": [
    "# Cell 4: Train the model (resumes if checkpoint exists)\n",
    "from scripts.train import train_embedding_model\n",
    "\n",
    "model = train_embedding_model(\n",
    "    model_type=settings.MODEL_TYPE,\n",
    "    sentences=sentences,\n",
    "    save_dir=settings.MODEL_DIR,\n",
    "    model_name=settings.MODEL_NAME,\n",
    "    vector_size=settings.VECTOR_SIZE,\n",
    "    window=settings.WINDOW,\n",
    "    min_count=settings.MIN_COUNT,\n",
    "    epochs=settings.EPOCHS,\n",
    "    resume=settings.MODEL_RESUME\n",
    ")"
   ],
   "id": "3c21588502b581ad",
   "outputs": [
    {
     "name": "stderr",
     "output_type": "stream",
     "text": [
      "2025-04-09 17:50:49,574 : INFO : loading Word2Vec object from models/fasttext_rowiki-latest-pages-articles.model\n",
      "2025-04-09 17:50:49,682 : INFO : loading wv recursively from models/fasttext_rowiki-latest-pages-articles.model.wv.* with mmap=None\n",
      "2025-04-09 17:50:49,682 : INFO : loading vectors_vocab from models/fasttext_rowiki-latest-pages-articles.model.wv.vectors_vocab.npy with mmap=None\n",
      "2025-04-09 17:50:49,716 : INFO : loading vectors_ngrams from models/fasttext_rowiki-latest-pages-articles.model.wv.vectors_ngrams.npy with mmap=None\n"
     ]
    },
    {
     "name": "stdout",
     "output_type": "stream",
     "text": [
      "Resuming training from existing model at models/fasttext_rowiki-latest-pages-articles.model\n"
     ]
    },
    {
     "name": "stderr",
     "output_type": "stream",
     "text": [
      "2025-04-09 17:50:49,796 : INFO : setting ignored attribute vectors to None\n",
      "2025-04-09 17:50:49,797 : INFO : setting ignored attribute buckets_word to None\n",
      "2025-04-09 17:51:04,664 : INFO : loading syn1neg from models/fasttext_rowiki-latest-pages-articles.model.syn1neg.npy with mmap=None\n",
      "2025-04-09 17:51:04,686 : INFO : setting ignored attribute cum_table to None\n",
      "2025-04-09 17:51:06,815 : INFO : FastText lifecycle event {'fname': 'models/fasttext_rowiki-latest-pages-articles.model', 'datetime': '2025-04-09T17:51:06.815610', 'gensim': '4.3.3', 'python': '3.12.9 (main, Mar 31 2025, 00:00:00) [GCC 14.2.1 20250110 (Red Hat 14.2.1-7)]', 'platform': 'Linux-6.13.9-200.fc41.x86_64-x86_64-with-glibc2.40', 'event': 'loaded'}\n",
      "2025-04-09 17:51:06,815 : INFO : collecting all words and their counts\n",
      "2025-04-09 17:51:06,816 : INFO : PROGRESS: at sentence #0, processed 0 words, keeping 0 word types\n",
      "2025-04-09 17:51:07,299 : INFO : PROGRESS: at sentence #10000, processed 6789820 words, keeping 278118 word types\n",
      "2025-04-09 17:51:07,720 : INFO : PROGRESS: at sentence #20000, processed 12464841 words, keeping 407021 word types\n",
      "2025-04-09 17:51:08,011 : INFO : PROGRESS: at sentence #30000, processed 16472381 words, keeping 477698 word types\n",
      "2025-04-09 17:51:08,407 : INFO : PROGRESS: at sentence #40000, processed 21710719 words, keeping 586650 word types\n",
      "2025-04-09 17:51:08,602 : INFO : PROGRESS: at sentence #50000, processed 24253964 words, keeping 625434 word types\n",
      "2025-04-09 17:51:08,845 : INFO : PROGRESS: at sentence #60000, processed 27410906 words, keeping 670541 word types\n",
      "2025-04-09 17:51:09,070 : INFO : PROGRESS: at sentence #70000, processed 30190066 words, keeping 714471 word types\n",
      "2025-04-09 17:51:09,226 : INFO : PROGRESS: at sentence #80000, processed 32208872 words, keeping 747580 word types\n",
      "2025-04-09 17:51:09,474 : INFO : PROGRESS: at sentence #90000, processed 35464999 words, keeping 794393 word types\n",
      "2025-04-09 17:51:09,744 : INFO : PROGRESS: at sentence #100000, processed 38946248 words, keeping 858248 word types\n",
      "2025-04-09 17:51:10,123 : INFO : PROGRESS: at sentence #110000, processed 43707442 words, keeping 932572 word types\n",
      "2025-04-09 17:51:10,442 : INFO : PROGRESS: at sentence #120000, processed 47336971 words, keeping 983863 word types\n",
      "2025-04-09 17:51:10,727 : INFO : PROGRESS: at sentence #130000, processed 50755538 words, keeping 1041188 word types\n",
      "2025-04-09 17:51:11,034 : INFO : PROGRESS: at sentence #140000, processed 54597581 words, keeping 1090277 word types\n",
      "2025-04-09 17:51:11,333 : INFO : PROGRESS: at sentence #150000, processed 58292661 words, keeping 1134356 word types\n",
      "2025-04-09 17:51:11,616 : INFO : PROGRESS: at sentence #160000, processed 61799523 words, keeping 1178691 word types\n",
      "2025-04-09 17:51:11,740 : INFO : PROGRESS: at sentence #170000, processed 63484073 words, keeping 1201997 word types\n",
      "2025-04-09 17:51:11,770 : INFO : PROGRESS: at sentence #180000, processed 63911925 words, keeping 1208923 word types\n",
      "2025-04-09 17:51:11,819 : INFO : PROGRESS: at sentence #190000, processed 64558822 words, keeping 1220597 word types\n",
      "2025-04-09 17:51:11,864 : INFO : PROGRESS: at sentence #200000, processed 65160484 words, keeping 1226930 word types\n",
      "2025-04-09 17:51:12,190 : INFO : PROGRESS: at sentence #210000, processed 69114800 words, keeping 1279444 word types\n",
      "2025-04-09 17:51:12,336 : INFO : PROGRESS: at sentence #220000, processed 70936110 words, keeping 1303930 word types\n",
      "2025-04-09 17:51:12,584 : INFO : PROGRESS: at sentence #230000, processed 73997234 words, keeping 1338783 word types\n",
      "2025-04-09 17:51:12,788 : INFO : PROGRESS: at sentence #240000, processed 76509102 words, keeping 1380792 word types\n",
      "2025-04-09 17:51:12,840 : INFO : PROGRESS: at sentence #250000, processed 77232671 words, keeping 1388219 word types\n",
      "2025-04-09 17:51:12,873 : INFO : PROGRESS: at sentence #260000, processed 77730671 words, keeping 1390336 word types\n",
      "2025-04-09 17:51:12,932 : INFO : PROGRESS: at sentence #270000, processed 78272289 words, keeping 1398468 word types\n",
      "2025-04-09 17:51:12,954 : INFO : PROGRESS: at sentence #280000, processed 78582004 words, keeping 1402119 word types\n",
      "2025-04-09 17:51:12,989 : INFO : PROGRESS: at sentence #290000, processed 79061746 words, keeping 1409248 word types\n",
      "2025-04-09 17:51:13,041 : INFO : PROGRESS: at sentence #300000, processed 79797137 words, keeping 1419974 word types\n",
      "2025-04-09 17:51:13,104 : INFO : PROGRESS: at sentence #310000, processed 80603762 words, keeping 1443572 word types\n",
      "2025-04-09 17:51:13,168 : INFO : PROGRESS: at sentence #320000, processed 81381856 words, keeping 1448544 word types\n",
      "2025-04-09 17:51:13,212 : INFO : PROGRESS: at sentence #330000, processed 81967748 words, keeping 1458522 word types\n",
      "2025-04-09 17:51:13,341 : INFO : PROGRESS: at sentence #340000, processed 83613382 words, keeping 1474895 word types\n",
      "2025-04-09 17:51:13,405 : INFO : PROGRESS: at sentence #350000, processed 84525307 words, keeping 1486443 word types\n",
      "2025-04-09 17:51:13,818 : INFO : PROGRESS: at sentence #360000, processed 89395769 words, keeping 1552231 word types\n",
      "2025-04-09 17:51:14,223 : INFO : PROGRESS: at sentence #370000, processed 94234244 words, keeping 1606095 word types\n",
      "2025-04-09 17:51:14,591 : INFO : PROGRESS: at sentence #380000, processed 98754348 words, keeping 1647145 word types\n",
      "2025-04-09 17:51:14,946 : INFO : PROGRESS: at sentence #390000, processed 103005713 words, keeping 1693982 word types\n",
      "2025-04-09 17:51:15,325 : INFO : PROGRESS: at sentence #400000, processed 107811570 words, keeping 1730366 word types\n",
      "2025-04-09 17:51:15,685 : INFO : PROGRESS: at sentence #410000, processed 112135823 words, keeping 1777204 word types\n",
      "2025-04-09 17:51:16,044 : INFO : PROGRESS: at sentence #420000, processed 116408686 words, keeping 1816278 word types\n",
      "2025-04-09 17:51:16,458 : INFO : PROGRESS: at sentence #430000, processed 121398382 words, keeping 1859609 word types\n",
      "2025-04-09 17:51:16,580 : INFO : PROGRESS: at sentence #440000, processed 123050762 words, keeping 1868852 word types\n",
      "2025-04-09 17:51:16,749 : INFO : PROGRESS: at sentence #450000, processed 125521148 words, keeping 1878773 word types\n",
      "2025-04-09 17:51:16,878 : INFO : PROGRESS: at sentence #460000, processed 127498933 words, keeping 1886533 word types\n",
      "2025-04-09 17:51:17,015 : INFO : PROGRESS: at sentence #470000, processed 129278819 words, keeping 1898657 word types\n",
      "2025-04-09 17:51:17,073 : INFO : PROGRESS: at sentence #480000, processed 130090794 words, keeping 1901613 word types\n",
      "2025-04-09 17:51:17,260 : INFO : PROGRESS: at sentence #490000, processed 132283229 words, keeping 1922021 word types\n",
      "2025-04-09 17:51:17,370 : INFO : collected 1935512 word types from a corpus of 133644823 raw words and 496027 sentences\n",
      "2025-04-09 17:51:17,370 : INFO : Updating model with new vocabulary\n",
      "2025-04-09 17:51:18,781 : INFO : FastText lifecycle event {'msg': 'added 0 new unique words (0.00% of original 1935512) and increased the count of 750392 pre-existing words (38.77% of original 1935512)', 'datetime': '2025-04-09T17:51:18.781249', 'gensim': '4.3.3', 'python': '3.12.9 (main, Mar 31 2025, 00:00:00) [GCC 14.2.1 20250110 (Red Hat 14.2.1-7)]', 'platform': 'Linux-6.13.9-200.fc41.x86_64-x86_64-with-glibc2.40', 'event': 'prepare_vocab'}\n",
      "2025-04-09 17:51:20,299 : INFO : deleting the raw counts dictionary of 1935512 items\n",
      "2025-04-09 17:51:20,315 : INFO : sample=1e-05 downsamples 4248 most-common words\n",
      "2025-04-09 17:51:20,315 : INFO : FastText lifecycle event {'msg': 'downsampling leaves estimated 64030944.183220066 word corpus (48.4%% of prior 132198166)', 'datetime': '2025-04-09T17:51:20.315587', 'gensim': '4.3.3', 'python': '3.12.9 (main, Mar 31 2025, 00:00:00) [GCC 14.2.1 20250110 (Red Hat 14.2.1-7)]', 'platform': 'Linux-6.13.9-200.fc41.x86_64-x86_64-with-glibc2.40', 'event': 'prepare_vocab'}\n"
     ]
    }
   ],
   "execution_count": null
  },
  {
   "metadata": {},
   "cell_type": "code",
   "source": [
    "# Cell 5: Some basic queries\n",
    "from scripts.evaluate import run_simple_queries\n",
    "\n",
    "run_simple_queries(model)"
   ],
   "id": "c68035666621e1f9",
   "outputs": [],
   "execution_count": null
  }
 ],
 "metadata": {
  "kernelspec": {
   "display_name": "Python 3",
   "language": "python",
   "name": "python3"
  },
  "language_info": {
   "codemirror_mode": {
    "name": "ipython",
    "version": 2
   },
   "file_extension": ".py",
   "mimetype": "text/x-python",
   "name": "python",
   "nbconvert_exporter": "python",
   "pygments_lexer": "ipython2",
   "version": "2.7.6"
  }
 },
 "nbformat": 4,
 "nbformat_minor": 5
}
