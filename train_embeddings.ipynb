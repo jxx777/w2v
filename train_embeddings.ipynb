{
 "cells": [
  {
   "metadata": {},
   "cell_type": "markdown",
   "source": "### Setting up configurations / settings",
   "id": "7fb3070e0be5d4"
  },
  {
   "cell_type": "code",
   "id": "817179d7a1d5d8f1",
   "metadata": {},
   "source": [
    "# Cell 1: Logging Settings\n",
    "import logging\n",
    "logging.basicConfig(format='%(asctime)s : %(levelname)s : %(message)s', level=logging.INFO)"
   ],
   "outputs": [],
   "execution_count": null
  },
  {
   "cell_type": "code",
   "id": "cdc97477213db38f",
   "metadata": {},
   "source": [
    "# Cell 2: Load and override config\n",
    "from config import Settings\n",
    "settings = Settings(\n",
    "    MODEL_TYPE=\"word2vec\", # or \"fasttext\"\n",
    "    MODEL_NAME=\"word2vec_enwiki-latest-pages-articles\",\n",
    "    MODEL_RESUME=True, # Existing model from checkpoint if available\n",
    "    DATASET_URL= \"https://dumps.wikimedia.org/enwiki/latest/enwiki-latest-pages-articles.xml.bz2\",\n",
    "    EPOCHS=5, # You can test with fewer epochs\n",
    "    CORPUS_CHECKPOINT_STRATEGY=\"streaming\" # Use \"streaming\" (saved to disk) or \"serialized\" (loaded into RAM)\n",
    ")\n",
    "\n",
    "logging.info(\"Current configuration settings:\\n%s\", settings.model_dump_json(indent=2))"
   ],
   "outputs": [],
   "execution_count": null
  },
  {
   "metadata": {},
   "cell_type": "markdown",
   "source": "### Load the dataset, run tokenization, and train the model",
   "id": "bcdc24498c04d1e0"
  },
  {
   "cell_type": "code",
   "id": "97ec9c047b4f1999",
   "metadata": {},
   "source": [
    "# Cell 3: If not present, download corpus\n",
    "from utils.download import download\n",
    "from pathlib import Path\n",
    "\n",
    "corpus_checkpoint = settings.CHECKPOINT_DIR / f\"{settings.DATASET_FILE}.txt\"\n",
    "\n",
    "print(corpus_checkpoint)\n",
    "\n",
    "if not Path(settings.DATASET_PATH).exists():\n",
    "    logging.info(\"Dataset / dump not found. Downloading...\")\n",
    "    download(\n",
    "        url = settings.DATASET_URL,\n",
    "        destination = str(settings.DATASET_PATH)\n",
    "    )\n",
    "    logging.info(f\"Download complete: {settings.DATASET_PATH}\")"
   ],
   "outputs": [],
   "execution_count": null
  },
  {
   "cell_type": "code",
   "id": "8bdcee31942882b6",
   "metadata": {},
   "source": [
    "# Cell 4: Load Corpus based on Checkpoint Strategy\n",
    "from utils.corpus_loader import load_or_tokenize_wiki\n",
    "from pathlib import Path\n",
    "\n",
    "# Choose the checkpoint file and strategy based on the configuration.\n",
    "match settings.CORPUS_CHECKPOINT_STRATEGY:\n",
    "    case \"serialized\":\n",
    "        corpus_checkpoint = Path(settings.CHECKPOINT_DIR / f\"{settings.MODEL_NAME}.pkl\")\n",
    "        use_streaming = False\n",
    "    case \"streaming\":\n",
    "        corpus_checkpoint = Path(settings.CHECKPOINT_DIR / f\"{settings.MODEL_NAME}.txt\")\n",
    "        use_streaming = True\n",
    "    case _:\n",
    "        raise ValueError(f\"Invalid checkpoint strategy: {settings.CORPUS_CHECKPOINT_STRATEGY}\")\n",
    "\n",
    "# Load or create the corpus based on the chosen strategy.\n",
    "sentences = load_or_tokenize_wiki(\n",
    "    dataset_path=settings.DATASET_PATH,\n",
    "    checkpoint_path=corpus_checkpoint,\n",
    "    use_streaming=use_streaming\n",
    ")"
   ],
   "outputs": [],
   "execution_count": null
  },
  {
   "cell_type": "code",
   "id": "3c21588502b581ad",
   "metadata": {},
   "source": [
    "# Cell 5: Train the model (resumes if checkpoint exists)\n",
    "from scripts.train import train_embedding_model\n",
    "\n",
    "model = train_embedding_model(\n",
    "    model_type=settings.MODEL_TYPE,\n",
    "    sentences=sentences,\n",
    "    save_dir=settings.MODEL_DIR,\n",
    "    model_name=settings.MODEL_NAME,\n",
    "    vector_size=settings.VECTOR_SIZE,\n",
    "    window=settings.WINDOW,\n",
    "    min_count=settings.MIN_COUNT,\n",
    "    epochs=settings.EPOCHS,\n",
    "    resume=settings.MODEL_RESUME\n",
    ")"
   ],
   "outputs": [],
   "execution_count": null
  },
  {
   "metadata": {},
   "cell_type": "markdown",
   "source": "### Once loaded, the model can be used / queried, etc",
   "id": "d9d80cefae05975b"
  },
  {
   "metadata": {},
   "cell_type": "code",
   "source": [
    "from gensim.models import FastText, Word2Vec\n",
    "\n",
    "model_path = settings.MODEL_DIR / f\"{settings.MODEL_NAME}.model\"\n",
    "model_type = settings.MODEL_TYPE.lower()\n",
    "\n",
    "match model_type:\n",
    "    case \"fasttext\":\n",
    "        loaded_model = FastText.load(str(model_path))\n",
    "        print(\"Model loaded successfully\")\n",
    "    case \"word2vec\":\n",
    "        loaded_model = Word2Vec.load(str(model_path))\n",
    "        print(\"Model loaded successfully\")\n",
    "    case _:\n",
    "        raise ValueError(f\"Unsupported model_type '{model_type}'.\")"
   ],
   "id": "3182e7cb41d08021",
   "outputs": [],
   "execution_count": null
  },
  {
   "cell_type": "code",
   "id": "c68035666621e1f9",
   "metadata": {},
   "source": [
    "# Cell 5: Some basic queries\n",
    "from scripts.evaluate import run_simple_queries\n",
    "\n",
    "run_simple_queries(loaded_model)"
   ],
   "outputs": [],
   "execution_count": null
  },
  {
   "metadata": {},
   "cell_type": "markdown",
   "source": "### If you set up the Qdrant container, you can directly query the vectors in the db - no model load overhead.",
   "id": "626cc93848a41e74"
  },
  {
   "metadata": {
    "ExecuteTime": {
     "end_time": "2025-04-11T15:37:30.428178Z",
     "start_time": "2025-04-11T15:37:30.413787Z"
    }
   },
   "cell_type": "code",
   "source": [
    "# Cell 6: Setting up Qdrant client\n",
    "import json\n",
    "from qdrant_client import QdrantClient\n",
    "\n",
    "client = QdrantClient(host=\"localhost\", port=6333)\n",
    "collection = \"fasttext_rowiki-latest-pages-articles\""
   ],
   "id": "79ca849a07712058",
   "outputs": [
    {
     "name": "stderr",
     "output_type": "stream",
     "text": [
      "2025-04-11 18:37:30,426 : INFO : HTTP Request: GET http://localhost:6333 \"HTTP/1.1 200 OK\"\n"
     ]
    }
   ],
   "execution_count": 171
  },
  {
   "metadata": {
    "ExecuteTime": {
     "end_time": "2025-04-11T16:58:14.704182Z",
     "start_time": "2025-04-11T16:58:14.455870Z"
    }
   },
   "cell_type": "code",
   "source": [
    "from qdrant_client.models import Filter, FieldCondition, MatchValue, SearchParams\n",
    "\n",
    "# Human-readable token to vectorise\n",
    "# we use vectors in the queries so this makes our lives easier when running queries\n",
    "target_word = \"stranie\"\n",
    "\n",
    "# Step 1: Get vector for the `target_word`\n",
    "hits, _ = client.scroll(\n",
    "    collection_name=collection,\n",
    "    scroll_filter=Filter(\n",
    "        must=[FieldCondition(key=\"word\", match=MatchValue(value=target_word))]\n",
    "    ),\n",
    "    with_vectors=True,\n",
    "    limit=1\n",
    ")\n",
    "\n",
    "if not hits:\n",
    "    print(f\"⚠️ Word '{target_word}' not found.\")\n",
    "else:\n",
    "    vector = hits[0].vector\n",
    "\n",
    "    # Step 2: Use vector directly in query\n",
    "    results = client.query_points(\n",
    "        collection_name=collection,\n",
    "        query=vector,\n",
    "        query_filter=Filter(\n",
    "            must=[\n",
    "                FieldCondition(key=\"pos\", match=MatchValue(value=\"ADJ\")),\n",
    "            ]\n",
    "        ),\n",
    "        limit=10,\n",
    "        with_payload=True,\n",
    "        search_params=SearchParams(hnsw_ef=128)\n",
    "    ).points\n",
    "\n",
    "    # Step 3: Print results\n",
    "    for i, hit in enumerate(results, 1):\n",
    "        print(f\"\\nResult #{i} (id: {hit.id}, score: {hit.score:.3f}):\")\n",
    "        print(json.dumps(hit.payload, indent=2, ensure_ascii=False))\n"
   ],
   "id": "ab93f42760bd69ab",
   "outputs": [
    {
     "name": "stderr",
     "output_type": "stream",
     "text": [
      "2025-04-11 19:58:14,577 : INFO : HTTP Request: POST http://localhost:6333/collections/fasttext_rowiki-latest-pages-articles/points/scroll \"HTTP/1.1 200 OK\"\n",
      "2025-04-11 19:58:14,702 : INFO : HTTP Request: POST http://localhost:6333/collections/fasttext_rowiki-latest-pages-articles/points/query \"HTTP/1.1 200 OK\"\n"
     ]
    },
    {
     "name": "stdout",
     "output_type": "stream",
     "text": [
      "\n",
      "Result #1 (id: 37690, score: 1.000):\n",
      "{\n",
      "  \"word\": \"stranie\",\n",
      "  \"pos\": \"ADJ\",\n",
      "  \"tag\": \"Afpfsrn\",\n",
      "  \"dep\": \"amod\",\n",
      "  \"lemma\": \"stranie\",\n",
      "  \"morph\": \"Case=Acc,Nom|Definite=Ind|Degree=Pos|Gender=Fem|Number=Sing\",\n",
      "  \"ent_type\": \"\",\n",
      "  \"frequency\": 246\n",
      "}\n",
      "\n",
      "Result #2 (id: 33061, score: 0.881):\n",
      "{\n",
      "  \"word\": \"stranii\",\n",
      "  \"pos\": \"ADJ\",\n",
      "  \"tag\": \"Afp-p-n\",\n",
      "  \"dep\": \"amod\",\n",
      "  \"lemma\": \"straniu\",\n",
      "  \"morph\": \"Definite=Ind|Degree=Pos|Number=Plur\",\n",
      "  \"ent_type\": \"\",\n",
      "  \"frequency\": 297\n",
      "}\n",
      "\n",
      "Result #3 (id: 252233, score: 0.849):\n",
      "{\n",
      "  \"word\": \"straniile\",\n",
      "  \"pos\": \"ADJ\",\n",
      "  \"tag\": \"Afpfpry\",\n",
      "  \"dep\": \"amod\",\n",
      "  \"lemma\": \"straniile\",\n",
      "  \"morph\": \"Case=Acc,Nom|Definite=Def|Degree=Pos|Gender=Fem|Number=Plur\",\n",
      "  \"ent_type\": \"\",\n",
      "  \"frequency\": 13\n",
      "}\n",
      "\n",
      "Result #4 (id: 17719, score: 0.848):\n",
      "{\n",
      "  \"word\": \"interesantă\",\n",
      "  \"pos\": \"ADJ\",\n",
      "  \"tag\": \"Afpfsrn\",\n",
      "  \"dep\": \"amod\",\n",
      "  \"lemma\": \"interesant\",\n",
      "  \"morph\": \"Case=Acc,Nom|Definite=Ind|Degree=Pos|Gender=Fem|Number=Sing\",\n",
      "  \"ent_type\": \"\",\n",
      "  \"frequency\": 692\n",
      "}\n",
      "\n",
      "Result #5 (id: 35652, score: 0.841):\n",
      "{\n",
      "  \"word\": \"straniu\",\n",
      "  \"pos\": \"ADJ\",\n",
      "  \"tag\": \"Afpms-n\",\n",
      "  \"dep\": \"amod\",\n",
      "  \"lemma\": \"straniu\",\n",
      "  \"morph\": \"Definite=Ind|Degree=Pos|Gender=Masc|Number=Sing\",\n",
      "  \"ent_type\": \"\",\n",
      "  \"frequency\": 266\n",
      "}\n",
      "\n",
      "Result #6 (id: 72486, score: 0.830):\n",
      "{\n",
      "  \"word\": \"enigmatică\",\n",
      "  \"pos\": \"ADJ\",\n",
      "  \"tag\": \"Afpfsrn\",\n",
      "  \"dep\": \"csubj\",\n",
      "  \"lemma\": \"enigmatic\",\n",
      "  \"morph\": \"Case=Acc,Nom|Definite=Ind|Degree=Pos|Gender=Fem|Number=Sing\",\n",
      "  \"ent_type\": \"\",\n",
      "  \"frequency\": 92\n",
      "}\n",
      "\n",
      "Result #7 (id: 18417, score: 0.828):\n",
      "{\n",
      "  \"word\": \"ciudată\",\n",
      "  \"pos\": \"ADJ\",\n",
      "  \"tag\": \"Afpfsrn\",\n",
      "  \"dep\": \"amod\",\n",
      "  \"lemma\": \"ciudat\",\n",
      "  \"morph\": \"Case=Acc,Nom|Definite=Ind|Degree=Pos|Gender=Fem|Number=Sing\",\n",
      "  \"ent_type\": \"\",\n",
      "  \"frequency\": 659\n",
      "}\n",
      "\n",
      "Result #8 (id: 125853, score: 0.825):\n",
      "{\n",
      "  \"word\": \"fantomatică\",\n",
      "  \"pos\": \"ADJ\",\n",
      "  \"tag\": \"Afpfsrn\",\n",
      "  \"dep\": \"amod\",\n",
      "  \"lemma\": \"fantomatic\",\n",
      "  \"morph\": \"Case=Acc,Nom|Definite=Ind|Degree=Pos|Gender=Fem|Number=Sing\",\n",
      "  \"ent_type\": \"\",\n",
      "  \"frequency\": 40\n",
      "}\n",
      "\n",
      "Result #9 (id: 90726, score: 0.821):\n",
      "{\n",
      "  \"word\": \"senzațională\",\n",
      "  \"pos\": \"ADJ\",\n",
      "  \"tag\": \"Afpfsrn\",\n",
      "  \"dep\": \"amod\",\n",
      "  \"lemma\": \"senzațional\",\n",
      "  \"morph\": \"Case=Acc,Nom|Definite=Ind|Degree=Pos|Gender=Fem|Number=Sing\",\n",
      "  \"ent_type\": \"\",\n",
      "  \"frequency\": 66\n",
      "}\n",
      "\n",
      "Result #10 (id: 230069, score: 0.820):\n",
      "{\n",
      "  \"word\": \"dezorientată\",\n",
      "  \"pos\": \"ADJ\",\n",
      "  \"tag\": \"Afpfsrn\",\n",
      "  \"dep\": \"amod\",\n",
      "  \"lemma\": \"dezorientat\",\n",
      "  \"morph\": \"Case=Acc,Nom|Definite=Ind|Degree=Pos|Gender=Fem|Number=Sing\",\n",
      "  \"ent_type\": \"\",\n",
      "  \"frequency\": 15\n",
      "}\n"
     ]
    }
   ],
   "execution_count": 178
  },
  {
   "metadata": {
    "ExecuteTime": {
     "end_time": "2025-04-11T15:41:58.801353Z",
     "start_time": "2025-04-11T15:41:58.773528Z"
    }
   },
   "cell_type": "code",
   "source": [
    "import ipywidgets as widgets\n",
    "from IPython.display import display\n",
    "\n",
    "def explore_word(word):\n",
    "    results = search_similar_words(word)\n",
    "    for r in results:\n",
    "        print(f\"🔹 {r.payload.get('word')} (score: {r.score:.3f})\")\n",
    "\n",
    "text_input = widgets.Text(\n",
    "    value='ciudata',\n",
    "    placeholder='Enter a word',\n",
    "    description='Word:',\n",
    "    disabled=False\n",
    ")\n",
    "\n",
    "button = widgets.Button(description=\"Search\")\n",
    "button.on_click(lambda x: explore_word(text_input.value))\n",
    "display(text_input, button)"
   ],
   "id": "aa146da5cf66dd0a",
   "outputs": [
    {
     "data": {
      "text/plain": [
       "Text(value='ciudata', description='Word:', placeholder='Enter a word')"
      ],
      "application/vnd.jupyter.widget-view+json": {
       "version_major": 2,
       "version_minor": 0,
       "model_id": "d7d12e1d3e0a4369bcc13ea079de0216"
      }
     },
     "metadata": {},
     "output_type": "display_data"
    },
    {
     "data": {
      "text/plain": [
       "Button(description='Search', style=ButtonStyle())"
      ],
      "application/vnd.jupyter.widget-view+json": {
       "version_major": 2,
       "version_minor": 0,
       "model_id": "4712af67a4724da38786591a25da88af"
      }
     },
     "metadata": {},
     "output_type": "display_data"
    }
   ],
   "execution_count": 177
  }
 ],
 "metadata": {
  "kernelspec": {
   "display_name": "Python 3 (ipykernel)",
   "language": "python",
   "name": "python3"
  },
  "language_info": {
   "codemirror_mode": {
    "name": "ipython",
    "version": 3
   },
   "file_extension": ".py",
   "mimetype": "text/x-python",
   "name": "python",
   "nbconvert_exporter": "python",
   "pygments_lexer": "ipython3",
   "version": "3.12.9"
  }
 },
 "nbformat": 4,
 "nbformat_minor": 5
}
