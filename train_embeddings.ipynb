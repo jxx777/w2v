{
 "cells": [
  {
   "metadata": {},
   "cell_type": "markdown",
   "source": "### Setting up configurations / settings",
   "id": "7fb3070e0be5d4"
  },
  {
   "cell_type": "code",
   "id": "817179d7a1d5d8f1",
   "metadata": {},
   "source": [
    "# Cell 1: Logging Settings\n",
    "import logging\n",
    "\n",
    "from qdrant_client.http.models import ScoredPoint\n",
    "\n",
    "logging.basicConfig(format='%(asctime)s : %(levelname)s : %(message)s', level=logging.INFO)"
   ],
   "outputs": [],
   "execution_count": null
  },
  {
   "cell_type": "code",
   "id": "cdc97477213db38f",
   "metadata": {},
   "source": [
    "# Cell 2: Load and override config\n",
    "from config import Settings\n",
    "settings = Settings(\n",
    "    MODEL_TYPE=\"word2vec\", # or \"fasttext\"\n",
    "    MODEL_NAME=\"word2vec_enwiki-latest-pages-articles\",\n",
    "    MODEL_RESUME=True, # Existing model from checkpoint if available\n",
    "    DATASET_URL= \"https://dumps.wikimedia.org/enwiki/latest/enwiki-latest-pages-articles.xml.bz2\",\n",
    "    EPOCHS=5, # You can test with fewer epochs\n",
    "    CORPUS_CHECKPOINT_STRATEGY=\"streaming\" # Use \"streaming\" (saved to disk) or \"serialized\" (loaded into RAM)\n",
    ")\n",
    "\n",
    "logging.info(\"Current configuration settings:\\n%s\", settings.model_dump_json(indent=2))"
   ],
   "outputs": [],
   "execution_count": null
  },
  {
   "metadata": {},
   "cell_type": "markdown",
   "source": "### Load the dataset, run tokenization, and train the model",
   "id": "bcdc24498c04d1e0"
  },
  {
   "cell_type": "code",
   "id": "97ec9c047b4f1999",
   "metadata": {},
   "source": [
    "# Cell 3: If not present, download corpus\n",
    "from utils.download import download\n",
    "from pathlib import Path\n",
    "\n",
    "corpus_checkpoint = settings.CHECKPOINT_DIR / f\"{settings.DATASET_FILE}.txt\"\n",
    "\n",
    "print(corpus_checkpoint)\n",
    "\n",
    "if not Path(settings.DATASET_PATH).exists():\n",
    "    logging.info(\"Dataset / dump not found. Downloading...\")\n",
    "    download(\n",
    "        url = settings.DATASET_URL,\n",
    "        destination = str(settings.DATASET_PATH)\n",
    "    )\n",
    "    logging.info(f\"Download complete: {settings.DATASET_PATH}\")"
   ],
   "outputs": [],
   "execution_count": null
  },
  {
   "cell_type": "code",
   "id": "8bdcee31942882b6",
   "metadata": {},
   "source": [
    "# Cell 4: Load Corpus based on Checkpoint Strategy\n",
    "from utils.corpus_loader import load_or_tokenize_wiki\n",
    "from pathlib import Path\n",
    "\n",
    "# Choose the checkpoint file and strategy based on the configuration.\n",
    "match settings.CORPUS_CHECKPOINT_STRATEGY:\n",
    "    case \"serialized\":\n",
    "        corpus_checkpoint = Path(settings.CHECKPOINT_DIR / f\"{settings.MODEL_NAME}.pkl\")\n",
    "        use_streaming = False\n",
    "    case \"streaming\":\n",
    "        corpus_checkpoint = Path(settings.CHECKPOINT_DIR / f\"{settings.MODEL_NAME}.txt\")\n",
    "        use_streaming = True\n",
    "    case _:\n",
    "        raise ValueError(f\"Invalid checkpoint strategy: {settings.CORPUS_CHECKPOINT_STRATEGY}\")\n",
    "\n",
    "# Load or create the corpus based on the chosen strategy.\n",
    "sentences = load_or_tokenize_wiki(\n",
    "    dataset_path=settings.DATASET_PATH,\n",
    "    checkpoint_path=corpus_checkpoint,\n",
    "    use_streaming=use_streaming\n",
    ")"
   ],
   "outputs": [],
   "execution_count": null
  },
  {
   "cell_type": "code",
   "id": "3c21588502b581ad",
   "metadata": {},
   "source": [
    "# Cell 5: Train the model (resumes if checkpoint exists)\n",
    "from scripts.train import train_embedding_model\n",
    "\n",
    "model = train_embedding_model(\n",
    "    model_type=settings.MODEL_TYPE,\n",
    "    sentences=sentences,\n",
    "    save_dir=settings.MODEL_DIR,\n",
    "    model_name=settings.MODEL_NAME,\n",
    "    vector_size=settings.VECTOR_SIZE,\n",
    "    window=settings.WINDOW,\n",
    "    min_count=settings.MIN_COUNT,\n",
    "    epochs=settings.EPOCHS,\n",
    "    resume=settings.MODEL_RESUME\n",
    ")"
   ],
   "outputs": [],
   "execution_count": null
  },
  {
   "metadata": {},
   "cell_type": "markdown",
   "source": "### Once loaded, the model can be used / queried, etc",
   "id": "d9d80cefae05975b"
  },
  {
   "metadata": {},
   "cell_type": "code",
   "source": [
    "from gensim.models import FastText, Word2Vec\n",
    "\n",
    "model_path = settings.MODEL_DIR / f\"{settings.MODEL_NAME}.model\"\n",
    "model_type = settings.MODEL_TYPE.lower()\n",
    "\n",
    "match model_type:\n",
    "    case \"fasttext\":\n",
    "        loaded_model = FastText.load(str(model_path))\n",
    "        print(\"Model loaded successfully\")\n",
    "    case \"word2vec\":\n",
    "        loaded_model = Word2Vec.load(str(model_path))\n",
    "        print(\"Model loaded successfully\")\n",
    "    case _:\n",
    "        raise ValueError(f\"Unsupported model_type '{model_type}'.\")"
   ],
   "id": "3182e7cb41d08021",
   "outputs": [],
   "execution_count": null
  },
  {
   "cell_type": "code",
   "id": "c68035666621e1f9",
   "metadata": {},
   "source": [
    "# Cell 5: Some basic queries\n",
    "from scripts.evaluate import run_simple_queries\n",
    "\n",
    "run_simple_queries(loaded_model)"
   ],
   "outputs": [],
   "execution_count": null
  },
  {
   "metadata": {},
   "cell_type": "markdown",
   "source": "### If you set up the Qdrant container, you can directly query the vectors in the db - no model load overhead.",
   "id": "626cc93848a41e74"
  },
  {
   "metadata": {
    "ExecuteTime": {
     "end_time": "2025-04-13T07:44:35.373544Z",
     "start_time": "2025-04-13T07:44:35.363198Z"
    }
   },
   "cell_type": "code",
   "source": [
    "# Cell 6: Setting up Qdrant client\n",
    "import json\n",
    "from qdrant_client import QdrantClient\n",
    "\n",
    "client = QdrantClient(host=\"localhost\", port=6333)\n",
    "collection = \"fasttext_rowiki-latest-pages-articles\""
   ],
   "id": "79ca849a07712058",
   "outputs": [],
   "execution_count": 335
  },
  {
   "metadata": {
    "ExecuteTime": {
     "end_time": "2025-04-13T07:44:55.349614Z",
     "start_time": "2025-04-13T07:44:55.179718Z"
    }
   },
   "cell_type": "code",
   "source": [
    "from qdrant_client.models import Filter, FieldCondition, MatchValue, SearchParams, ScoredPoint\n",
    "\n",
    "# Human-readable token to vectorise\n",
    "# we use vectors in the queries so this makes our lives easier when running queries\n",
    "target_word = \"barca\"\n",
    "\n",
    "# Step 1: Get vector for the `target_word`\n",
    "hits, _ = client.scroll(\n",
    "    collection_name=collection,\n",
    "    scroll_filter=Filter(\n",
    "        must=[FieldCondition(key=\"word\", match=MatchValue(value=target_word))]\n",
    "    ),\n",
    "    with_vectors=True,\n",
    "    limit=1\n",
    ")\n",
    "\n",
    "if not hits:\n",
    "    print(f\"⚠️ Word '{target_word}' not found.\")\n",
    "else:\n",
    "    vector = hits[0].vector\n",
    "\n",
    "    # Step 2: Use vector directly in query\n",
    "    results: list[ScoredPoint] = client.query_points(\n",
    "        collection_name=collection,\n",
    "        query=vector,\n",
    "        query_filter=Filter(\n",
    "            must=[\n",
    "                FieldCondition(key=\"pos\", match=MatchValue(value=\"ADJ\")),\n",
    "            ]\n",
    "        ),\n",
    "        limit=10,\n",
    "        with_payload=True,\n",
    "        search_params=SearchParams(hnsw_ef=128)\n",
    "    ).points\n",
    "\n",
    "    # Step 3: Print results\n",
    "    for i, hit in enumerate(results, 1):\n",
    "        print(f\"\\nResult #{i} (id: {hit.id}, score: {hit.score:.3f}):\")\n",
    "        print(json.dumps(hit.payload, indent=2, ensure_ascii=False))\n"
   ],
   "id": "ab93f42760bd69ab",
   "outputs": [
    {
     "ename": "ResponseHandlingException",
     "evalue": "Server disconnected without sending a response.",
     "output_type": "error",
     "traceback": [
      "\u001B[31m---------------------------------------------------------------------------\u001B[39m",
      "\u001B[31mRemoteProtocolError\u001B[39m                       Traceback (most recent call last)",
      "\u001B[36mFile \u001B[39m\u001B[32m~/work/w2v/.venv/lib/python3.12/site-packages/httpx/_transports/default.py:101\u001B[39m, in \u001B[36mmap_httpcore_exceptions\u001B[39m\u001B[34m()\u001B[39m\n\u001B[32m    100\u001B[39m \u001B[38;5;28;01mtry\u001B[39;00m:\n\u001B[32m--> \u001B[39m\u001B[32m101\u001B[39m     \u001B[38;5;28;01myield\u001B[39;00m\n\u001B[32m    102\u001B[39m \u001B[38;5;28;01mexcept\u001B[39;00m \u001B[38;5;167;01mException\u001B[39;00m \u001B[38;5;28;01mas\u001B[39;00m exc:\n",
      "\u001B[36mFile \u001B[39m\u001B[32m~/work/w2v/.venv/lib/python3.12/site-packages/httpx/_transports/default.py:250\u001B[39m, in \u001B[36mHTTPTransport.handle_request\u001B[39m\u001B[34m(self, request)\u001B[39m\n\u001B[32m    249\u001B[39m \u001B[38;5;28;01mwith\u001B[39;00m map_httpcore_exceptions():\n\u001B[32m--> \u001B[39m\u001B[32m250\u001B[39m     resp = \u001B[38;5;28;43mself\u001B[39;49m\u001B[43m.\u001B[49m\u001B[43m_pool\u001B[49m\u001B[43m.\u001B[49m\u001B[43mhandle_request\u001B[49m\u001B[43m(\u001B[49m\u001B[43mreq\u001B[49m\u001B[43m)\u001B[49m\n\u001B[32m    252\u001B[39m \u001B[38;5;28;01massert\u001B[39;00m \u001B[38;5;28misinstance\u001B[39m(resp.stream, typing.Iterable)\n",
      "\u001B[36mFile \u001B[39m\u001B[32m~/work/w2v/.venv/lib/python3.12/site-packages/httpcore/_sync/connection_pool.py:256\u001B[39m, in \u001B[36mConnectionPool.handle_request\u001B[39m\u001B[34m(self, request)\u001B[39m\n\u001B[32m    255\u001B[39m     \u001B[38;5;28mself\u001B[39m._close_connections(closing)\n\u001B[32m--> \u001B[39m\u001B[32m256\u001B[39m     \u001B[38;5;28;01mraise\u001B[39;00m exc \u001B[38;5;28;01mfrom\u001B[39;00m\u001B[38;5;250m \u001B[39m\u001B[38;5;28;01mNone\u001B[39;00m\n\u001B[32m    258\u001B[39m \u001B[38;5;66;03m# Return the response. Note that in this case we still have to manage\u001B[39;00m\n\u001B[32m    259\u001B[39m \u001B[38;5;66;03m# the point at which the response is closed.\u001B[39;00m\n",
      "\u001B[36mFile \u001B[39m\u001B[32m~/work/w2v/.venv/lib/python3.12/site-packages/httpcore/_sync/connection_pool.py:236\u001B[39m, in \u001B[36mConnectionPool.handle_request\u001B[39m\u001B[34m(self, request)\u001B[39m\n\u001B[32m    234\u001B[39m \u001B[38;5;28;01mtry\u001B[39;00m:\n\u001B[32m    235\u001B[39m     \u001B[38;5;66;03m# Send the request on the assigned connection.\u001B[39;00m\n\u001B[32m--> \u001B[39m\u001B[32m236\u001B[39m     response = \u001B[43mconnection\u001B[49m\u001B[43m.\u001B[49m\u001B[43mhandle_request\u001B[49m\u001B[43m(\u001B[49m\n\u001B[32m    237\u001B[39m \u001B[43m        \u001B[49m\u001B[43mpool_request\u001B[49m\u001B[43m.\u001B[49m\u001B[43mrequest\u001B[49m\n\u001B[32m    238\u001B[39m \u001B[43m    \u001B[49m\u001B[43m)\u001B[49m\n\u001B[32m    239\u001B[39m \u001B[38;5;28;01mexcept\u001B[39;00m ConnectionNotAvailable:\n\u001B[32m    240\u001B[39m     \u001B[38;5;66;03m# In some cases a connection may initially be available to\u001B[39;00m\n\u001B[32m    241\u001B[39m     \u001B[38;5;66;03m# handle a request, but then become unavailable.\u001B[39;00m\n\u001B[32m    242\u001B[39m     \u001B[38;5;66;03m#\u001B[39;00m\n\u001B[32m    243\u001B[39m     \u001B[38;5;66;03m# In this case we clear the connection and try again.\u001B[39;00m\n",
      "\u001B[36mFile \u001B[39m\u001B[32m~/work/w2v/.venv/lib/python3.12/site-packages/httpcore/_sync/connection.py:103\u001B[39m, in \u001B[36mHTTPConnection.handle_request\u001B[39m\u001B[34m(self, request)\u001B[39m\n\u001B[32m    101\u001B[39m     \u001B[38;5;28;01mraise\u001B[39;00m exc\n\u001B[32m--> \u001B[39m\u001B[32m103\u001B[39m \u001B[38;5;28;01mreturn\u001B[39;00m \u001B[38;5;28;43mself\u001B[39;49m\u001B[43m.\u001B[49m\u001B[43m_connection\u001B[49m\u001B[43m.\u001B[49m\u001B[43mhandle_request\u001B[49m\u001B[43m(\u001B[49m\u001B[43mrequest\u001B[49m\u001B[43m)\u001B[49m\n",
      "\u001B[36mFile \u001B[39m\u001B[32m~/work/w2v/.venv/lib/python3.12/site-packages/httpcore/_sync/http11.py:136\u001B[39m, in \u001B[36mHTTP11Connection.handle_request\u001B[39m\u001B[34m(self, request)\u001B[39m\n\u001B[32m    135\u001B[39m         \u001B[38;5;28mself\u001B[39m._response_closed()\n\u001B[32m--> \u001B[39m\u001B[32m136\u001B[39m \u001B[38;5;28;01mraise\u001B[39;00m exc\n",
      "\u001B[36mFile \u001B[39m\u001B[32m~/work/w2v/.venv/lib/python3.12/site-packages/httpcore/_sync/http11.py:106\u001B[39m, in \u001B[36mHTTP11Connection.handle_request\u001B[39m\u001B[34m(self, request)\u001B[39m\n\u001B[32m     97\u001B[39m \u001B[38;5;28;01mwith\u001B[39;00m Trace(\n\u001B[32m     98\u001B[39m     \u001B[33m\"\u001B[39m\u001B[33mreceive_response_headers\u001B[39m\u001B[33m\"\u001B[39m, logger, request, kwargs\n\u001B[32m     99\u001B[39m ) \u001B[38;5;28;01mas\u001B[39;00m trace:\n\u001B[32m    100\u001B[39m     (\n\u001B[32m    101\u001B[39m         http_version,\n\u001B[32m    102\u001B[39m         status,\n\u001B[32m    103\u001B[39m         reason_phrase,\n\u001B[32m    104\u001B[39m         headers,\n\u001B[32m    105\u001B[39m         trailing_data,\n\u001B[32m--> \u001B[39m\u001B[32m106\u001B[39m     ) = \u001B[38;5;28;43mself\u001B[39;49m\u001B[43m.\u001B[49m\u001B[43m_receive_response_headers\u001B[49m\u001B[43m(\u001B[49m\u001B[43m*\u001B[49m\u001B[43m*\u001B[49m\u001B[43mkwargs\u001B[49m\u001B[43m)\u001B[49m\n\u001B[32m    107\u001B[39m     trace.return_value = (\n\u001B[32m    108\u001B[39m         http_version,\n\u001B[32m    109\u001B[39m         status,\n\u001B[32m    110\u001B[39m         reason_phrase,\n\u001B[32m    111\u001B[39m         headers,\n\u001B[32m    112\u001B[39m     )\n",
      "\u001B[36mFile \u001B[39m\u001B[32m~/work/w2v/.venv/lib/python3.12/site-packages/httpcore/_sync/http11.py:177\u001B[39m, in \u001B[36mHTTP11Connection._receive_response_headers\u001B[39m\u001B[34m(self, request)\u001B[39m\n\u001B[32m    176\u001B[39m \u001B[38;5;28;01mwhile\u001B[39;00m \u001B[38;5;28;01mTrue\u001B[39;00m:\n\u001B[32m--> \u001B[39m\u001B[32m177\u001B[39m     event = \u001B[38;5;28;43mself\u001B[39;49m\u001B[43m.\u001B[49m\u001B[43m_receive_event\u001B[49m\u001B[43m(\u001B[49m\u001B[43mtimeout\u001B[49m\u001B[43m=\u001B[49m\u001B[43mtimeout\u001B[49m\u001B[43m)\u001B[49m\n\u001B[32m    178\u001B[39m     \u001B[38;5;28;01mif\u001B[39;00m \u001B[38;5;28misinstance\u001B[39m(event, h11.Response):\n",
      "\u001B[36mFile \u001B[39m\u001B[32m~/work/w2v/.venv/lib/python3.12/site-packages/httpcore/_sync/http11.py:231\u001B[39m, in \u001B[36mHTTP11Connection._receive_event\u001B[39m\u001B[34m(self, timeout)\u001B[39m\n\u001B[32m    230\u001B[39m     msg = \u001B[33m\"\u001B[39m\u001B[33mServer disconnected without sending a response.\u001B[39m\u001B[33m\"\u001B[39m\n\u001B[32m--> \u001B[39m\u001B[32m231\u001B[39m     \u001B[38;5;28;01mraise\u001B[39;00m RemoteProtocolError(msg)\n\u001B[32m    233\u001B[39m \u001B[38;5;28mself\u001B[39m._h11_state.receive_data(data)\n",
      "\u001B[31mRemoteProtocolError\u001B[39m: Server disconnected without sending a response.",
      "\nThe above exception was the direct cause of the following exception:\n",
      "\u001B[31mRemoteProtocolError\u001B[39m                       Traceback (most recent call last)",
      "\u001B[36mFile \u001B[39m\u001B[32m~/work/w2v/.venv/lib/python3.12/site-packages/qdrant_client/http/api_client.py:116\u001B[39m, in \u001B[36mApiClient.send_inner\u001B[39m\u001B[34m(self, request)\u001B[39m\n\u001B[32m    115\u001B[39m \u001B[38;5;28;01mtry\u001B[39;00m:\n\u001B[32m--> \u001B[39m\u001B[32m116\u001B[39m     response = \u001B[38;5;28;43mself\u001B[39;49m\u001B[43m.\u001B[49m\u001B[43m_client\u001B[49m\u001B[43m.\u001B[49m\u001B[43msend\u001B[49m\u001B[43m(\u001B[49m\u001B[43mrequest\u001B[49m\u001B[43m)\u001B[49m\n\u001B[32m    117\u001B[39m \u001B[38;5;28;01mexcept\u001B[39;00m \u001B[38;5;167;01mException\u001B[39;00m \u001B[38;5;28;01mas\u001B[39;00m e:\n",
      "\u001B[36mFile \u001B[39m\u001B[32m~/work/w2v/.venv/lib/python3.12/site-packages/httpx/_client.py:914\u001B[39m, in \u001B[36mClient.send\u001B[39m\u001B[34m(self, request, stream, auth, follow_redirects)\u001B[39m\n\u001B[32m    912\u001B[39m auth = \u001B[38;5;28mself\u001B[39m._build_request_auth(request, auth)\n\u001B[32m--> \u001B[39m\u001B[32m914\u001B[39m response = \u001B[38;5;28;43mself\u001B[39;49m\u001B[43m.\u001B[49m\u001B[43m_send_handling_auth\u001B[49m\u001B[43m(\u001B[49m\n\u001B[32m    915\u001B[39m \u001B[43m    \u001B[49m\u001B[43mrequest\u001B[49m\u001B[43m,\u001B[49m\n\u001B[32m    916\u001B[39m \u001B[43m    \u001B[49m\u001B[43mauth\u001B[49m\u001B[43m=\u001B[49m\u001B[43mauth\u001B[49m\u001B[43m,\u001B[49m\n\u001B[32m    917\u001B[39m \u001B[43m    \u001B[49m\u001B[43mfollow_redirects\u001B[49m\u001B[43m=\u001B[49m\u001B[43mfollow_redirects\u001B[49m\u001B[43m,\u001B[49m\n\u001B[32m    918\u001B[39m \u001B[43m    \u001B[49m\u001B[43mhistory\u001B[49m\u001B[43m=\u001B[49m\u001B[43m[\u001B[49m\u001B[43m]\u001B[49m\u001B[43m,\u001B[49m\n\u001B[32m    919\u001B[39m \u001B[43m\u001B[49m\u001B[43m)\u001B[49m\n\u001B[32m    920\u001B[39m \u001B[38;5;28;01mtry\u001B[39;00m:\n",
      "\u001B[36mFile \u001B[39m\u001B[32m~/work/w2v/.venv/lib/python3.12/site-packages/httpx/_client.py:942\u001B[39m, in \u001B[36mClient._send_handling_auth\u001B[39m\u001B[34m(self, request, auth, follow_redirects, history)\u001B[39m\n\u001B[32m    941\u001B[39m \u001B[38;5;28;01mwhile\u001B[39;00m \u001B[38;5;28;01mTrue\u001B[39;00m:\n\u001B[32m--> \u001B[39m\u001B[32m942\u001B[39m     response = \u001B[38;5;28;43mself\u001B[39;49m\u001B[43m.\u001B[49m\u001B[43m_send_handling_redirects\u001B[49m\u001B[43m(\u001B[49m\n\u001B[32m    943\u001B[39m \u001B[43m        \u001B[49m\u001B[43mrequest\u001B[49m\u001B[43m,\u001B[49m\n\u001B[32m    944\u001B[39m \u001B[43m        \u001B[49m\u001B[43mfollow_redirects\u001B[49m\u001B[43m=\u001B[49m\u001B[43mfollow_redirects\u001B[49m\u001B[43m,\u001B[49m\n\u001B[32m    945\u001B[39m \u001B[43m        \u001B[49m\u001B[43mhistory\u001B[49m\u001B[43m=\u001B[49m\u001B[43mhistory\u001B[49m\u001B[43m,\u001B[49m\n\u001B[32m    946\u001B[39m \u001B[43m    \u001B[49m\u001B[43m)\u001B[49m\n\u001B[32m    947\u001B[39m     \u001B[38;5;28;01mtry\u001B[39;00m:\n",
      "\u001B[36mFile \u001B[39m\u001B[32m~/work/w2v/.venv/lib/python3.12/site-packages/httpx/_client.py:979\u001B[39m, in \u001B[36mClient._send_handling_redirects\u001B[39m\u001B[34m(self, request, follow_redirects, history)\u001B[39m\n\u001B[32m    977\u001B[39m     hook(request)\n\u001B[32m--> \u001B[39m\u001B[32m979\u001B[39m response = \u001B[38;5;28;43mself\u001B[39;49m\u001B[43m.\u001B[49m\u001B[43m_send_single_request\u001B[49m\u001B[43m(\u001B[49m\u001B[43mrequest\u001B[49m\u001B[43m)\u001B[49m\n\u001B[32m    980\u001B[39m \u001B[38;5;28;01mtry\u001B[39;00m:\n",
      "\u001B[36mFile \u001B[39m\u001B[32m~/work/w2v/.venv/lib/python3.12/site-packages/httpx/_client.py:1014\u001B[39m, in \u001B[36mClient._send_single_request\u001B[39m\u001B[34m(self, request)\u001B[39m\n\u001B[32m   1013\u001B[39m \u001B[38;5;28;01mwith\u001B[39;00m request_context(request=request):\n\u001B[32m-> \u001B[39m\u001B[32m1014\u001B[39m     response = \u001B[43mtransport\u001B[49m\u001B[43m.\u001B[49m\u001B[43mhandle_request\u001B[49m\u001B[43m(\u001B[49m\u001B[43mrequest\u001B[49m\u001B[43m)\u001B[49m\n\u001B[32m   1016\u001B[39m \u001B[38;5;28;01massert\u001B[39;00m \u001B[38;5;28misinstance\u001B[39m(response.stream, SyncByteStream)\n",
      "\u001B[36mFile \u001B[39m\u001B[32m~/work/w2v/.venv/lib/python3.12/site-packages/httpx/_transports/default.py:249\u001B[39m, in \u001B[36mHTTPTransport.handle_request\u001B[39m\u001B[34m(self, request)\u001B[39m\n\u001B[32m    237\u001B[39m req = httpcore.Request(\n\u001B[32m    238\u001B[39m     method=request.method,\n\u001B[32m    239\u001B[39m     url=httpcore.URL(\n\u001B[32m   (...)\u001B[39m\u001B[32m    247\u001B[39m     extensions=request.extensions,\n\u001B[32m    248\u001B[39m )\n\u001B[32m--> \u001B[39m\u001B[32m249\u001B[39m \u001B[38;5;28;01mwith\u001B[39;00m map_httpcore_exceptions():\n\u001B[32m    250\u001B[39m     resp = \u001B[38;5;28mself\u001B[39m._pool.handle_request(req)\n",
      "\u001B[36mFile \u001B[39m\u001B[32m/usr/lib64/python3.12/contextlib.py:158\u001B[39m, in \u001B[36m_GeneratorContextManager.__exit__\u001B[39m\u001B[34m(self, typ, value, traceback)\u001B[39m\n\u001B[32m    157\u001B[39m \u001B[38;5;28;01mtry\u001B[39;00m:\n\u001B[32m--> \u001B[39m\u001B[32m158\u001B[39m     \u001B[38;5;28;43mself\u001B[39;49m\u001B[43m.\u001B[49m\u001B[43mgen\u001B[49m\u001B[43m.\u001B[49m\u001B[43mthrow\u001B[49m\u001B[43m(\u001B[49m\u001B[43mvalue\u001B[49m\u001B[43m)\u001B[49m\n\u001B[32m    159\u001B[39m \u001B[38;5;28;01mexcept\u001B[39;00m \u001B[38;5;167;01mStopIteration\u001B[39;00m \u001B[38;5;28;01mas\u001B[39;00m exc:\n\u001B[32m    160\u001B[39m     \u001B[38;5;66;03m# Suppress StopIteration *unless* it's the same exception that\u001B[39;00m\n\u001B[32m    161\u001B[39m     \u001B[38;5;66;03m# was passed to throw().  This prevents a StopIteration\u001B[39;00m\n\u001B[32m    162\u001B[39m     \u001B[38;5;66;03m# raised inside the \"with\" statement from being suppressed.\u001B[39;00m\n",
      "\u001B[36mFile \u001B[39m\u001B[32m~/work/w2v/.venv/lib/python3.12/site-packages/httpx/_transports/default.py:118\u001B[39m, in \u001B[36mmap_httpcore_exceptions\u001B[39m\u001B[34m()\u001B[39m\n\u001B[32m    117\u001B[39m message = \u001B[38;5;28mstr\u001B[39m(exc)\n\u001B[32m--> \u001B[39m\u001B[32m118\u001B[39m \u001B[38;5;28;01mraise\u001B[39;00m mapped_exc(message) \u001B[38;5;28;01mfrom\u001B[39;00m\u001B[38;5;250m \u001B[39m\u001B[34;01mexc\u001B[39;00m\n",
      "\u001B[31mRemoteProtocolError\u001B[39m: Server disconnected without sending a response.",
      "\nDuring handling of the above exception, another exception occurred:\n",
      "\u001B[31mResponseHandlingException\u001B[39m                 Traceback (most recent call last)",
      "\u001B[36mCell\u001B[39m\u001B[36m \u001B[39m\u001B[32mIn[337]\u001B[39m\u001B[32m, line 8\u001B[39m\n\u001B[32m      5\u001B[39m target_word = \u001B[33m\"\u001B[39m\u001B[33mbarca\u001B[39m\u001B[33m\"\u001B[39m\n\u001B[32m      7\u001B[39m \u001B[38;5;66;03m# Step 1: Get vector for the `target_word`\u001B[39;00m\n\u001B[32m----> \u001B[39m\u001B[32m8\u001B[39m hits, _ = \u001B[43mclient\u001B[49m\u001B[43m.\u001B[49m\u001B[43mscroll\u001B[49m\u001B[43m(\u001B[49m\n\u001B[32m      9\u001B[39m \u001B[43m    \u001B[49m\u001B[43mcollection_name\u001B[49m\u001B[43m=\u001B[49m\u001B[43mcollection\u001B[49m\u001B[43m,\u001B[49m\n\u001B[32m     10\u001B[39m \u001B[43m    \u001B[49m\u001B[43mscroll_filter\u001B[49m\u001B[43m=\u001B[49m\u001B[43mFilter\u001B[49m\u001B[43m(\u001B[49m\n\u001B[32m     11\u001B[39m \u001B[43m        \u001B[49m\u001B[43mmust\u001B[49m\u001B[43m=\u001B[49m\u001B[43m[\u001B[49m\u001B[43mFieldCondition\u001B[49m\u001B[43m(\u001B[49m\u001B[43mkey\u001B[49m\u001B[43m=\u001B[49m\u001B[33;43m\"\u001B[39;49m\u001B[33;43mword\u001B[39;49m\u001B[33;43m\"\u001B[39;49m\u001B[43m,\u001B[49m\u001B[43m \u001B[49m\u001B[43mmatch\u001B[49m\u001B[43m=\u001B[49m\u001B[43mMatchValue\u001B[49m\u001B[43m(\u001B[49m\u001B[43mvalue\u001B[49m\u001B[43m=\u001B[49m\u001B[43mtarget_word\u001B[49m\u001B[43m)\u001B[49m\u001B[43m)\u001B[49m\u001B[43m]\u001B[49m\n\u001B[32m     12\u001B[39m \u001B[43m    \u001B[49m\u001B[43m)\u001B[49m\u001B[43m,\u001B[49m\n\u001B[32m     13\u001B[39m \u001B[43m    \u001B[49m\u001B[43mwith_vectors\u001B[49m\u001B[43m=\u001B[49m\u001B[38;5;28;43;01mTrue\u001B[39;49;00m\u001B[43m,\u001B[49m\n\u001B[32m     14\u001B[39m \u001B[43m    \u001B[49m\u001B[43mlimit\u001B[49m\u001B[43m=\u001B[49m\u001B[32;43m1\u001B[39;49m\n\u001B[32m     15\u001B[39m \u001B[43m)\u001B[49m\n\u001B[32m     17\u001B[39m \u001B[38;5;28;01mif\u001B[39;00m \u001B[38;5;129;01mnot\u001B[39;00m hits:\n\u001B[32m     18\u001B[39m     \u001B[38;5;28mprint\u001B[39m(\u001B[33mf\u001B[39m\u001B[33m\"\u001B[39m\u001B[33m⚠️ Word \u001B[39m\u001B[33m'\u001B[39m\u001B[38;5;132;01m{\u001B[39;00mtarget_word\u001B[38;5;132;01m}\u001B[39;00m\u001B[33m'\u001B[39m\u001B[33m not found.\u001B[39m\u001B[33m\"\u001B[39m)\n",
      "\u001B[36mFile \u001B[39m\u001B[32m~/work/w2v/.venv/lib/python3.12/site-packages/qdrant_client/qdrant_client.py:1401\u001B[39m, in \u001B[36mQdrantClient.scroll\u001B[39m\u001B[34m(self, collection_name, scroll_filter, limit, order_by, offset, with_payload, with_vectors, consistency, shard_key_selector, timeout, **kwargs)\u001B[39m\n\u001B[32m   1359\u001B[39m \u001B[38;5;250m\u001B[39m\u001B[33;03m\"\"\"Scroll over all (matching) points in the collection.\u001B[39;00m\n\u001B[32m   1360\u001B[39m \n\u001B[32m   1361\u001B[39m \u001B[33;03mThis method provides a way to iterate over all stored points with some optional filtering condition.\u001B[39;00m\n\u001B[32m   (...)\u001B[39m\u001B[32m   1397\u001B[39m \u001B[33;03m    If next page offset is `None` - there is no more points in the collection to scroll.\u001B[39;00m\n\u001B[32m   1398\u001B[39m \u001B[33;03m\"\"\"\u001B[39;00m\n\u001B[32m   1399\u001B[39m \u001B[38;5;28;01massert\u001B[39;00m \u001B[38;5;28mlen\u001B[39m(kwargs) == \u001B[32m0\u001B[39m, \u001B[33mf\u001B[39m\u001B[33m\"\u001B[39m\u001B[33mUnknown arguments: \u001B[39m\u001B[38;5;132;01m{\u001B[39;00m\u001B[38;5;28mlist\u001B[39m(kwargs.keys())\u001B[38;5;132;01m}\u001B[39;00m\u001B[33m\"\u001B[39m\n\u001B[32m-> \u001B[39m\u001B[32m1401\u001B[39m \u001B[38;5;28;01mreturn\u001B[39;00m \u001B[38;5;28;43mself\u001B[39;49m\u001B[43m.\u001B[49m\u001B[43m_client\u001B[49m\u001B[43m.\u001B[49m\u001B[43mscroll\u001B[49m\u001B[43m(\u001B[49m\n\u001B[32m   1402\u001B[39m \u001B[43m    \u001B[49m\u001B[43mcollection_name\u001B[49m\u001B[43m=\u001B[49m\u001B[43mcollection_name\u001B[49m\u001B[43m,\u001B[49m\n\u001B[32m   1403\u001B[39m \u001B[43m    \u001B[49m\u001B[43mscroll_filter\u001B[49m\u001B[43m=\u001B[49m\u001B[43mscroll_filter\u001B[49m\u001B[43m,\u001B[49m\n\u001B[32m   1404\u001B[39m \u001B[43m    \u001B[49m\u001B[43mlimit\u001B[49m\u001B[43m=\u001B[49m\u001B[43mlimit\u001B[49m\u001B[43m,\u001B[49m\n\u001B[32m   1405\u001B[39m \u001B[43m    \u001B[49m\u001B[43morder_by\u001B[49m\u001B[43m=\u001B[49m\u001B[43morder_by\u001B[49m\u001B[43m,\u001B[49m\n\u001B[32m   1406\u001B[39m \u001B[43m    \u001B[49m\u001B[43moffset\u001B[49m\u001B[43m=\u001B[49m\u001B[43moffset\u001B[49m\u001B[43m,\u001B[49m\n\u001B[32m   1407\u001B[39m \u001B[43m    \u001B[49m\u001B[43mwith_payload\u001B[49m\u001B[43m=\u001B[49m\u001B[43mwith_payload\u001B[49m\u001B[43m,\u001B[49m\n\u001B[32m   1408\u001B[39m \u001B[43m    \u001B[49m\u001B[43mwith_vectors\u001B[49m\u001B[43m=\u001B[49m\u001B[43mwith_vectors\u001B[49m\u001B[43m,\u001B[49m\n\u001B[32m   1409\u001B[39m \u001B[43m    \u001B[49m\u001B[43mconsistency\u001B[49m\u001B[43m=\u001B[49m\u001B[43mconsistency\u001B[49m\u001B[43m,\u001B[49m\n\u001B[32m   1410\u001B[39m \u001B[43m    \u001B[49m\u001B[43mshard_key_selector\u001B[49m\u001B[43m=\u001B[49m\u001B[43mshard_key_selector\u001B[49m\u001B[43m,\u001B[49m\n\u001B[32m   1411\u001B[39m \u001B[43m    \u001B[49m\u001B[43mtimeout\u001B[49m\u001B[43m=\u001B[49m\u001B[43mtimeout\u001B[49m\u001B[43m,\u001B[49m\n\u001B[32m   1412\u001B[39m \u001B[43m    \u001B[49m\u001B[43m*\u001B[49m\u001B[43m*\u001B[49m\u001B[43mkwargs\u001B[49m\u001B[43m,\u001B[49m\n\u001B[32m   1413\u001B[39m \u001B[43m\u001B[49m\u001B[43m)\u001B[49m\n",
      "\u001B[36mFile \u001B[39m\u001B[32m~/work/w2v/.venv/lib/python3.12/site-packages/qdrant_client/qdrant_remote.py:1716\u001B[39m, in \u001B[36mQdrantRemote.scroll\u001B[39m\u001B[34m(self, collection_name, scroll_filter, limit, order_by, offset, with_payload, with_vectors, consistency, shard_key_selector, timeout, **kwargs)\u001B[39m\n\u001B[32m   1712\u001B[39m \u001B[38;5;28;01mif\u001B[39;00m \u001B[38;5;28misinstance\u001B[39m(with_payload, grpc.WithPayloadSelector):\n\u001B[32m   1713\u001B[39m     with_payload = GrpcToRest.convert_with_payload_selector(with_payload)\n\u001B[32m   1715\u001B[39m scroll_result: Optional[models.ScrollResult] = (\n\u001B[32m-> \u001B[39m\u001B[32m1716\u001B[39m     \u001B[38;5;28;43mself\u001B[39;49m\u001B[43m.\u001B[49m\u001B[43mopenapi_client\u001B[49m\u001B[43m.\u001B[49m\u001B[43mpoints_api\u001B[49m\u001B[43m.\u001B[49m\u001B[43mscroll_points\u001B[49m\u001B[43m(\u001B[49m\n\u001B[32m   1717\u001B[39m \u001B[43m        \u001B[49m\u001B[43mcollection_name\u001B[49m\u001B[43m=\u001B[49m\u001B[43mcollection_name\u001B[49m\u001B[43m,\u001B[49m\n\u001B[32m   1718\u001B[39m \u001B[43m        \u001B[49m\u001B[43mconsistency\u001B[49m\u001B[43m=\u001B[49m\u001B[43mconsistency\u001B[49m\u001B[43m,\u001B[49m\n\u001B[32m   1719\u001B[39m \u001B[43m        \u001B[49m\u001B[43mscroll_request\u001B[49m\u001B[43m=\u001B[49m\u001B[43mmodels\u001B[49m\u001B[43m.\u001B[49m\u001B[43mScrollRequest\u001B[49m\u001B[43m(\u001B[49m\n\u001B[32m   1720\u001B[39m \u001B[43m            \u001B[49m\u001B[38;5;28;43mfilter\u001B[39;49m\u001B[43m=\u001B[49m\u001B[43mscroll_filter\u001B[49m\u001B[43m,\u001B[49m\n\u001B[32m   1721\u001B[39m \u001B[43m            \u001B[49m\u001B[43mlimit\u001B[49m\u001B[43m=\u001B[49m\u001B[43mlimit\u001B[49m\u001B[43m,\u001B[49m\n\u001B[32m   1722\u001B[39m \u001B[43m            \u001B[49m\u001B[43morder_by\u001B[49m\u001B[43m=\u001B[49m\u001B[43morder_by\u001B[49m\u001B[43m,\u001B[49m\n\u001B[32m   1723\u001B[39m \u001B[43m            \u001B[49m\u001B[43moffset\u001B[49m\u001B[43m=\u001B[49m\u001B[43moffset\u001B[49m\u001B[43m,\u001B[49m\n\u001B[32m   1724\u001B[39m \u001B[43m            \u001B[49m\u001B[43mwith_payload\u001B[49m\u001B[43m=\u001B[49m\u001B[43mwith_payload\u001B[49m\u001B[43m,\u001B[49m\n\u001B[32m   1725\u001B[39m \u001B[43m            \u001B[49m\u001B[43mwith_vector\u001B[49m\u001B[43m=\u001B[49m\u001B[43mwith_vectors\u001B[49m\u001B[43m,\u001B[49m\n\u001B[32m   1726\u001B[39m \u001B[43m            \u001B[49m\u001B[43mshard_key\u001B[49m\u001B[43m=\u001B[49m\u001B[43mshard_key_selector\u001B[49m\u001B[43m,\u001B[49m\n\u001B[32m   1727\u001B[39m \u001B[43m        \u001B[49m\u001B[43m)\u001B[49m\u001B[43m,\u001B[49m\n\u001B[32m   1728\u001B[39m \u001B[43m        \u001B[49m\u001B[43mtimeout\u001B[49m\u001B[43m=\u001B[49m\u001B[43mtimeout\u001B[49m\u001B[43m,\u001B[49m\n\u001B[32m   1729\u001B[39m \u001B[43m    \u001B[49m\u001B[43m)\u001B[49m.result\n\u001B[32m   1730\u001B[39m )\n\u001B[32m   1731\u001B[39m \u001B[38;5;28;01massert\u001B[39;00m scroll_result \u001B[38;5;129;01mis\u001B[39;00m \u001B[38;5;129;01mnot\u001B[39;00m \u001B[38;5;28;01mNone\u001B[39;00m, \u001B[33m\"\u001B[39m\u001B[33mScroll points API returned None result\u001B[39m\u001B[33m\"\u001B[39m\n\u001B[32m   1733\u001B[39m \u001B[38;5;28;01mreturn\u001B[39;00m scroll_result.points, scroll_result.next_page_offset\n",
      "\u001B[36mFile \u001B[39m\u001B[32m~/work/w2v/.venv/lib/python3.12/site-packages/qdrant_client/http/api/points_api.py:936\u001B[39m, in \u001B[36mSyncPointsApi.scroll_points\u001B[39m\u001B[34m(self, collection_name, consistency, timeout, scroll_request)\u001B[39m\n\u001B[32m    926\u001B[39m \u001B[38;5;28;01mdef\u001B[39;00m\u001B[38;5;250m \u001B[39m\u001B[34mscroll_points\u001B[39m(\n\u001B[32m    927\u001B[39m     \u001B[38;5;28mself\u001B[39m,\n\u001B[32m    928\u001B[39m     collection_name: \u001B[38;5;28mstr\u001B[39m,\n\u001B[32m   (...)\u001B[39m\u001B[32m    931\u001B[39m     scroll_request: m.ScrollRequest = \u001B[38;5;28;01mNone\u001B[39;00m,\n\u001B[32m    932\u001B[39m ) -> m.InlineResponse20016:\n\u001B[32m    933\u001B[39m \u001B[38;5;250m    \u001B[39m\u001B[33;03m\"\"\"\u001B[39;00m\n\u001B[32m    934\u001B[39m \u001B[33;03m    Scroll request - paginate over all points which matches given filtering condition\u001B[39;00m\n\u001B[32m    935\u001B[39m \u001B[33;03m    \"\"\"\u001B[39;00m\n\u001B[32m--> \u001B[39m\u001B[32m936\u001B[39m     \u001B[38;5;28;01mreturn\u001B[39;00m \u001B[38;5;28;43mself\u001B[39;49m\u001B[43m.\u001B[49m\u001B[43m_build_for_scroll_points\u001B[49m\u001B[43m(\u001B[49m\n\u001B[32m    937\u001B[39m \u001B[43m        \u001B[49m\u001B[43mcollection_name\u001B[49m\u001B[43m=\u001B[49m\u001B[43mcollection_name\u001B[49m\u001B[43m,\u001B[49m\n\u001B[32m    938\u001B[39m \u001B[43m        \u001B[49m\u001B[43mconsistency\u001B[49m\u001B[43m=\u001B[49m\u001B[43mconsistency\u001B[49m\u001B[43m,\u001B[49m\n\u001B[32m    939\u001B[39m \u001B[43m        \u001B[49m\u001B[43mtimeout\u001B[49m\u001B[43m=\u001B[49m\u001B[43mtimeout\u001B[49m\u001B[43m,\u001B[49m\n\u001B[32m    940\u001B[39m \u001B[43m        \u001B[49m\u001B[43mscroll_request\u001B[49m\u001B[43m=\u001B[49m\u001B[43mscroll_request\u001B[49m\u001B[43m,\u001B[49m\n\u001B[32m    941\u001B[39m \u001B[43m    \u001B[49m\u001B[43m)\u001B[49m\n",
      "\u001B[36mFile \u001B[39m\u001B[32m~/work/w2v/.venv/lib/python3.12/site-packages/qdrant_client/http/api/points_api.py:410\u001B[39m, in \u001B[36m_PointsApi._build_for_scroll_points\u001B[39m\u001B[34m(self, collection_name, consistency, timeout, scroll_request)\u001B[39m\n\u001B[32m    408\u001B[39m \u001B[38;5;28;01mif\u001B[39;00m \u001B[33m\"\u001B[39m\u001B[33mContent-Type\u001B[39m\u001B[33m\"\u001B[39m \u001B[38;5;129;01mnot\u001B[39;00m \u001B[38;5;129;01min\u001B[39;00m headers:\n\u001B[32m    409\u001B[39m     headers[\u001B[33m\"\u001B[39m\u001B[33mContent-Type\u001B[39m\u001B[33m\"\u001B[39m] = \u001B[33m\"\u001B[39m\u001B[33mapplication/json\u001B[39m\u001B[33m\"\u001B[39m\n\u001B[32m--> \u001B[39m\u001B[32m410\u001B[39m \u001B[38;5;28;01mreturn\u001B[39;00m \u001B[38;5;28;43mself\u001B[39;49m\u001B[43m.\u001B[49m\u001B[43mapi_client\u001B[49m\u001B[43m.\u001B[49m\u001B[43mrequest\u001B[49m\u001B[43m(\u001B[49m\n\u001B[32m    411\u001B[39m \u001B[43m    \u001B[49m\u001B[43mtype_\u001B[49m\u001B[43m=\u001B[49m\u001B[43mm\u001B[49m\u001B[43m.\u001B[49m\u001B[43mInlineResponse20016\u001B[49m\u001B[43m,\u001B[49m\n\u001B[32m    412\u001B[39m \u001B[43m    \u001B[49m\u001B[43mmethod\u001B[49m\u001B[43m=\u001B[49m\u001B[33;43m\"\u001B[39;49m\u001B[33;43mPOST\u001B[39;49m\u001B[33;43m\"\u001B[39;49m\u001B[43m,\u001B[49m\n\u001B[32m    413\u001B[39m \u001B[43m    \u001B[49m\u001B[43murl\u001B[49m\u001B[43m=\u001B[49m\u001B[33;43m\"\u001B[39;49m\u001B[33;43m/collections/\u001B[39;49m\u001B[38;5;132;43;01m{collection_name}\u001B[39;49;00m\u001B[33;43m/points/scroll\u001B[39;49m\u001B[33;43m\"\u001B[39;49m\u001B[43m,\u001B[49m\n\u001B[32m    414\u001B[39m \u001B[43m    \u001B[49m\u001B[43mheaders\u001B[49m\u001B[43m=\u001B[49m\u001B[43mheaders\u001B[49m\u001B[43m \u001B[49m\u001B[38;5;28;43;01mif\u001B[39;49;00m\u001B[43m \u001B[49m\u001B[43mheaders\u001B[49m\u001B[43m \u001B[49m\u001B[38;5;28;43;01melse\u001B[39;49;00m\u001B[43m \u001B[49m\u001B[38;5;28;43;01mNone\u001B[39;49;00m\u001B[43m,\u001B[49m\n\u001B[32m    415\u001B[39m \u001B[43m    \u001B[49m\u001B[43mpath_params\u001B[49m\u001B[43m=\u001B[49m\u001B[43mpath_params\u001B[49m\u001B[43m,\u001B[49m\n\u001B[32m    416\u001B[39m \u001B[43m    \u001B[49m\u001B[43mparams\u001B[49m\u001B[43m=\u001B[49m\u001B[43mquery_params\u001B[49m\u001B[43m,\u001B[49m\n\u001B[32m    417\u001B[39m \u001B[43m    \u001B[49m\u001B[43mcontent\u001B[49m\u001B[43m=\u001B[49m\u001B[43mbody\u001B[49m\u001B[43m,\u001B[49m\n\u001B[32m    418\u001B[39m \u001B[43m\u001B[49m\u001B[43m)\u001B[49m\n",
      "\u001B[36mFile \u001B[39m\u001B[32m~/work/w2v/.venv/lib/python3.12/site-packages/qdrant_client/http/api_client.py:89\u001B[39m, in \u001B[36mApiClient.request\u001B[39m\u001B[34m(self, type_, method, url, path_params, **kwargs)\u001B[39m\n\u001B[32m     87\u001B[39m     kwargs[\u001B[33m\"\u001B[39m\u001B[33mtimeout\u001B[39m\u001B[33m\"\u001B[39m] = \u001B[38;5;28mint\u001B[39m(kwargs[\u001B[33m\"\u001B[39m\u001B[33mparams\u001B[39m\u001B[33m\"\u001B[39m][\u001B[33m\"\u001B[39m\u001B[33mtimeout\u001B[39m\u001B[33m\"\u001B[39m])\n\u001B[32m     88\u001B[39m request = \u001B[38;5;28mself\u001B[39m._client.build_request(method, url, **kwargs)\n\u001B[32m---> \u001B[39m\u001B[32m89\u001B[39m \u001B[38;5;28;01mreturn\u001B[39;00m \u001B[38;5;28;43mself\u001B[39;49m\u001B[43m.\u001B[49m\u001B[43msend\u001B[49m\u001B[43m(\u001B[49m\u001B[43mrequest\u001B[49m\u001B[43m,\u001B[49m\u001B[43m \u001B[49m\u001B[43mtype_\u001B[49m\u001B[43m)\u001B[49m\n",
      "\u001B[36mFile \u001B[39m\u001B[32m~/work/w2v/.venv/lib/python3.12/site-packages/qdrant_client/http/api_client.py:106\u001B[39m, in \u001B[36mApiClient.send\u001B[39m\u001B[34m(self, request, type_)\u001B[39m\n\u001B[32m    105\u001B[39m \u001B[38;5;28;01mdef\u001B[39;00m\u001B[38;5;250m \u001B[39m\u001B[34msend\u001B[39m(\u001B[38;5;28mself\u001B[39m, request: Request, type_: Type[T]) -> T:\n\u001B[32m--> \u001B[39m\u001B[32m106\u001B[39m     response = \u001B[38;5;28;43mself\u001B[39;49m\u001B[43m.\u001B[49m\u001B[43mmiddleware\u001B[49m\u001B[43m(\u001B[49m\u001B[43mrequest\u001B[49m\u001B[43m,\u001B[49m\u001B[43m \u001B[49m\u001B[38;5;28;43mself\u001B[39;49m\u001B[43m.\u001B[49m\u001B[43msend_inner\u001B[49m\u001B[43m)\u001B[49m\n\u001B[32m    107\u001B[39m     \u001B[38;5;28;01mif\u001B[39;00m response.status_code \u001B[38;5;129;01min\u001B[39;00m [\u001B[32m200\u001B[39m, \u001B[32m201\u001B[39m, \u001B[32m202\u001B[39m]:\n\u001B[32m    108\u001B[39m         \u001B[38;5;28;01mtry\u001B[39;00m:\n",
      "\u001B[36mFile \u001B[39m\u001B[32m~/work/w2v/.venv/lib/python3.12/site-packages/qdrant_client/http/api_client.py:215\u001B[39m, in \u001B[36mBaseMiddleware.__call__\u001B[39m\u001B[34m(self, request, call_next)\u001B[39m\n\u001B[32m    214\u001B[39m \u001B[38;5;28;01mdef\u001B[39;00m\u001B[38;5;250m \u001B[39m\u001B[34m__call__\u001B[39m(\u001B[38;5;28mself\u001B[39m, request: Request, call_next: Send) -> Response:\n\u001B[32m--> \u001B[39m\u001B[32m215\u001B[39m     \u001B[38;5;28;01mreturn\u001B[39;00m \u001B[43mcall_next\u001B[49m\u001B[43m(\u001B[49m\u001B[43mrequest\u001B[49m\u001B[43m)\u001B[49m\n",
      "\u001B[36mFile \u001B[39m\u001B[32m~/work/w2v/.venv/lib/python3.12/site-packages/qdrant_client/http/api_client.py:118\u001B[39m, in \u001B[36mApiClient.send_inner\u001B[39m\u001B[34m(self, request)\u001B[39m\n\u001B[32m    116\u001B[39m     response = \u001B[38;5;28mself\u001B[39m._client.send(request)\n\u001B[32m    117\u001B[39m \u001B[38;5;28;01mexcept\u001B[39;00m \u001B[38;5;167;01mException\u001B[39;00m \u001B[38;5;28;01mas\u001B[39;00m e:\n\u001B[32m--> \u001B[39m\u001B[32m118\u001B[39m     \u001B[38;5;28;01mraise\u001B[39;00m ResponseHandlingException(e)\n\u001B[32m    119\u001B[39m \u001B[38;5;28;01mreturn\u001B[39;00m response\n",
      "\u001B[31mResponseHandlingException\u001B[39m: Server disconnected without sending a response."
     ]
    }
   ],
   "execution_count": 337
  },
  {
   "metadata": {
    "ExecuteTime": {
     "end_time": "2025-04-13T07:47:36.385450Z",
     "start_time": "2025-04-13T07:47:36.152953Z"
    }
   },
   "cell_type": "code",
   "source": [
    "from qdrant_client.models import Filter, FieldCondition, MatchValue, ScoredPoint\n",
    "\n",
    "target_phrase = \"lege\"\n",
    "\n",
    "\n",
    "# Step 1: Get vector for the verb\n",
    "hits, _ = client.scroll(\n",
    "    collection_name=collection,\n",
    "    scroll_filter=Filter(\n",
    "        must=[FieldCondition(key=\"word\", match=MatchValue(value=target_phrase))]\n",
    "    ),\n",
    "    with_vectors=True,\n",
    "    limit=1\n",
    ")\n",
    "\n",
    "if not hits:\n",
    "    print(f\"⚠️ Phrase '{target_phrase}' not found.\")\n",
    "else:\n",
    "    vector = hits[0].vector\n",
    "\n",
    "    # Step 2: Search for morph-compatible adjectives\n",
    "    results: list[ScoredPoint] = client.query_points(\n",
    "        collection_name=collection,\n",
    "        query=vector, # vector for 'noun'\n",
    "        query_filter=Filter(\n",
    "            must=[\n",
    "                FieldCondition(key=\"morph\", match=MatchValue(value=\"Gender=Fem|Number=Sing|VerbForm=Part\")),\n",
    "            ]\n",
    "        ),\n",
    "        limit=10, # top-k\n",
    "        # with_payload=True,\n",
    "    ).points\n",
    "\n",
    "    print(f\"\\nSuggested adjectives for: '{target_phrase} {{...}}'\")\n",
    "    for i, hit in enumerate(results, 1):\n",
    "        noun = hit.payload.get(\"word\", \"[unknown]\")\n",
    "        print(f\"{i}. {noun} (score: {hit.score:.3f})\")"
   ],
   "id": "e1b724f69f77310b",
   "outputs": [
    {
     "name": "stderr",
     "output_type": "stream",
     "text": [
      "2025-04-13 10:47:36,276 : INFO : HTTP Request: POST http://localhost:6333/collections/fasttext_rowiki-latest-pages-articles/points/scroll \"HTTP/1.1 200 OK\"\n",
      "2025-04-13 10:47:36,383 : INFO : HTTP Request: POST http://localhost:6333/collections/fasttext_rowiki-latest-pages-articles/points/query \"HTTP/1.1 200 OK\"\n"
     ]
    },
    {
     "name": "stdout",
     "output_type": "stream",
     "text": [
      "\n",
      "Suggested adjectives for: 'lege {...}'\n",
      "1. legiferată (score: 0.833)\n",
      "2. adoptată (score: 0.811)\n",
      "3. stipulată (score: 0.780)\n",
      "4. reglementată (score: 0.776)\n",
      "5. garantată (score: 0.771)\n",
      "6. promulgată (score: 0.762)\n",
      "7. normată (score: 0.754)\n",
      "8. legalizată (score: 0.751)\n",
      "9. instituționalizată (score: 0.748)\n",
      "10. aprobată (score: 0.748)\n"
     ]
    }
   ],
   "execution_count": 353
  }
 ],
 "metadata": {
  "kernelspec": {
   "display_name": "Python 3 (ipykernel)",
   "language": "python",
   "name": "python3"
  },
  "language_info": {
   "codemirror_mode": {
    "name": "ipython",
    "version": 3
   },
   "file_extension": ".py",
   "mimetype": "text/x-python",
   "name": "python",
   "nbconvert_exporter": "python",
   "pygments_lexer": "ipython3",
   "version": "3.12.9"
  }
 },
 "nbformat": 4,
 "nbformat_minor": 5
}
